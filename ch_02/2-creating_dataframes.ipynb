{
  "cells": [
    {
      "cell_type": "markdown",
      "metadata": {
        "id": "KITP3QFIl18j"
      },
      "source": [
        "# Creating DataFrames\n",
        "We will create `DataFrame` objects from other data structures in Python, by reading in a CSV file, and by querying a database.\n",
        "\n",
        "## About the Data\n",
        "In this notebook, we will be working with earthquake data from September 18, 2018 - October 13, 2018 (obtained from the US Geological Survey (USGS) using the [USGS API](https://earthquake.usgs.gov/fdsnws/event/1/))\n",
        "\n",
        "## Imports"
      ]
    },
    {
      "cell_type": "code",
      "execution_count": 1,
      "metadata": {
        "id": "0h0eO94ql18n"
      },
      "outputs": [],
      "source": [
        "import datetime as dt\n",
        "import numpy as np\n",
        "import pandas as pd"
      ]
    },
    {
      "cell_type": "code",
      "source": [
        "!wget https://raw.githubusercontent.com/stefmolin/Hands-On-Data-Analysis-with-Pandas-2nd-edition/master/ch_02/data/earthquakes.csv\n",
        "\n",
        "!wget https://raw.githubusercontent.com/stefmolin/Hands-On-Data-Analysis-with-Pandas-2nd-edition/master/ch_02/data/example_data.csv\n",
        "\n",
        "!wget https://raw.githubusercontent.com/stefmolin/Hands-On-Data-Analysis-with-Pandas-2nd-edition/master/ch_02/data/parsed.csv\n",
        "\n",
        "!wget https://raw.githubusercontent.com/stefmolin/Hands-On-Data-Analysis-with-Pandas-2nd-edition/master/ch_02/data/quakes.db\n",
        "\n",
        "!wget https://raw.githubusercontent.com/stefmolin/Hands-On-Data-Analysis-with-Pandas-2nd-edition/master/ch_02/data/tsunamis.csv\n",
        "\n",
        "!mkdir data\n",
        "\n",
        "!mv *.csv data\n",
        "\n",
        "!mv *.db data"
      ],
      "metadata": {
        "id": "PrZSDFSEpMyl",
        "outputId": "7c74fff0-17d5-4fb7-be1d-cf8a4f7abd6c",
        "colab": {
          "base_uri": "https://localhost:8080/"
        }
      },
      "execution_count": 2,
      "outputs": [
        {
          "output_type": "stream",
          "name": "stdout",
          "text": [
            "--2024-09-12 05:11:37--  https://raw.githubusercontent.com/stefmolin/Hands-On-Data-Analysis-with-Pandas-2nd-edition/master/ch_02/data/earthquakes.csv\n",
            "Resolving raw.githubusercontent.com (raw.githubusercontent.com)... 185.199.108.133, 185.199.109.133, 185.199.110.133, ...\n",
            "Connecting to raw.githubusercontent.com (raw.githubusercontent.com)|185.199.108.133|:443... connected.\n",
            "HTTP request sent, awaiting response... 200 OK\n",
            "Length: 3515656 (3.4M) [text/plain]\n",
            "Saving to: ‘earthquakes.csv’\n",
            "\n",
            "\rearthquakes.csv       0%[                    ]       0  --.-KB/s               \rearthquakes.csv     100%[===================>]   3.35M  --.-KB/s    in 0.04s   \n",
            "\n",
            "2024-09-12 05:11:37 (78.6 MB/s) - ‘earthquakes.csv’ saved [3515656/3515656]\n",
            "\n",
            "--2024-09-12 05:11:37--  https://raw.githubusercontent.com/stefmolin/Hands-On-Data-Analysis-with-Pandas-2nd-edition/master/ch_02/data/example_data.csv\n",
            "Resolving raw.githubusercontent.com (raw.githubusercontent.com)... 185.199.111.133, 185.199.108.133, 185.199.110.133, ...\n",
            "Connecting to raw.githubusercontent.com (raw.githubusercontent.com)|185.199.111.133|:443... connected.\n",
            "HTTP request sent, awaiting response... 200 OK\n",
            "Length: 397 [text/plain]\n",
            "Saving to: ‘example_data.csv’\n",
            "\n",
            "example_data.csv    100%[===================>]     397  --.-KB/s    in 0s      \n",
            "\n",
            "2024-09-12 05:11:37 (28.4 MB/s) - ‘example_data.csv’ saved [397/397]\n",
            "\n",
            "--2024-09-12 05:11:37--  https://raw.githubusercontent.com/stefmolin/Hands-On-Data-Analysis-with-Pandas-2nd-edition/master/ch_02/data/parsed.csv\n",
            "Resolving raw.githubusercontent.com (raw.githubusercontent.com)... 185.199.108.133, 185.199.109.133, 185.199.110.133, ...\n",
            "Connecting to raw.githubusercontent.com (raw.githubusercontent.com)|185.199.108.133|:443... connected.\n",
            "HTTP request sent, awaiting response... 200 OK\n",
            "Length: 3616212 (3.4M) [text/plain]\n",
            "Saving to: ‘parsed.csv’\n",
            "\n",
            "parsed.csv          100%[===================>]   3.45M  --.-KB/s    in 0.02s   \n",
            "\n",
            "2024-09-12 05:11:37 (162 MB/s) - ‘parsed.csv’ saved [3616212/3616212]\n",
            "\n",
            "--2024-09-12 05:11:37--  https://raw.githubusercontent.com/stefmolin/Hands-On-Data-Analysis-with-Pandas-2nd-edition/master/ch_02/data/quakes.db\n",
            "Resolving raw.githubusercontent.com (raw.githubusercontent.com)... 185.199.109.133, 185.199.110.133, 185.199.108.133, ...\n",
            "Connecting to raw.githubusercontent.com (raw.githubusercontent.com)|185.199.109.133|:443... connected.\n",
            "HTTP request sent, awaiting response... 200 OK\n",
            "Length: 16384 (16K) [application/octet-stream]\n",
            "Saving to: ‘quakes.db’\n",
            "\n",
            "quakes.db           100%[===================>]  16.00K  --.-KB/s    in 0s      \n",
            "\n",
            "2024-09-12 05:11:37 (43.5 MB/s) - ‘quakes.db’ saved [16384/16384]\n",
            "\n",
            "--2024-09-12 05:11:37--  https://raw.githubusercontent.com/stefmolin/Hands-On-Data-Analysis-with-Pandas-2nd-edition/master/ch_02/data/tsunamis.csv\n",
            "Resolving raw.githubusercontent.com (raw.githubusercontent.com)... 185.199.111.133, 185.199.108.133, 185.199.110.133, ...\n",
            "Connecting to raw.githubusercontent.com (raw.githubusercontent.com)|185.199.111.133|:443... connected.\n",
            "HTTP request sent, awaiting response... 200 OK\n",
            "Length: 6792 (6.6K) [text/plain]\n",
            "Saving to: ‘tsunamis.csv’\n",
            "\n",
            "tsunamis.csv        100%[===================>]   6.63K  --.-KB/s    in 0s      \n",
            "\n",
            "2024-09-12 05:11:37 (50.1 MB/s) - ‘tsunamis.csv’ saved [6792/6792]\n",
            "\n"
          ]
        }
      ]
    },
    {
      "cell_type": "markdown",
      "metadata": {
        "id": "0ooa4PmPl18o"
      },
      "source": [
        "## Creating a `Series` object"
      ]
    },
    {
      "cell_type": "code",
      "execution_count": null,
      "metadata": {
        "id": "a5adc5rWl18p",
        "outputId": "7d511355-f43c-470c-e3ff-e4e0ac8d0d00"
      },
      "outputs": [
        {
          "data": {
            "text/plain": [
              "0    0.548814\n",
              "1    0.715189\n",
              "2    0.602763\n",
              "3    0.544883\n",
              "4    0.423655\n",
              "Name: random, dtype: float64"
            ]
          },
          "execution_count": 2,
          "metadata": {},
          "output_type": "execute_result"
        }
      ],
      "source": [
        "np.random.seed(0) # set a seed for reproducibility\n",
        "pd.Series(np.random.rand(5), name='random')"
      ]
    },
    {
      "cell_type": "markdown",
      "metadata": {
        "id": "kW1fvOrKl18q"
      },
      "source": [
        "## Creating a `DataFrame` object from a `Series` object\n",
        "Use the `to_frame()` method:"
      ]
    },
    {
      "cell_type": "code",
      "execution_count": null,
      "metadata": {
        "id": "qD5HAZI1l18q",
        "outputId": "503ac61b-9a6c-4e3c-e247-13b813b8714a"
      },
      "outputs": [
        {
          "data": {
            "text/html": [
              "<div>\n",
              "<style scoped>\n",
              "    .dataframe tbody tr th:only-of-type {\n",
              "        vertical-align: middle;\n",
              "    }\n",
              "\n",
              "    .dataframe tbody tr th {\n",
              "        vertical-align: top;\n",
              "    }\n",
              "\n",
              "    .dataframe thead th {\n",
              "        text-align: right;\n",
              "    }\n",
              "</style>\n",
              "<table border=\"1\" class=\"dataframe\">\n",
              "  <thead>\n",
              "    <tr style=\"text-align: right;\">\n",
              "      <th></th>\n",
              "      <th>0</th>\n",
              "    </tr>\n",
              "  </thead>\n",
              "  <tbody>\n",
              "    <tr>\n",
              "      <th>0</th>\n",
              "      <td>0.0</td>\n",
              "    </tr>\n",
              "    <tr>\n",
              "      <th>1</th>\n",
              "      <td>2.5</td>\n",
              "    </tr>\n",
              "    <tr>\n",
              "      <th>2</th>\n",
              "      <td>5.0</td>\n",
              "    </tr>\n",
              "    <tr>\n",
              "      <th>3</th>\n",
              "      <td>7.5</td>\n",
              "    </tr>\n",
              "    <tr>\n",
              "      <th>4</th>\n",
              "      <td>10.0</td>\n",
              "    </tr>\n",
              "  </tbody>\n",
              "</table>\n",
              "</div>"
            ],
            "text/plain": [
              "      0\n",
              "0   0.0\n",
              "1   2.5\n",
              "2   5.0\n",
              "3   7.5\n",
              "4  10.0"
            ]
          },
          "execution_count": 3,
          "metadata": {},
          "output_type": "execute_result"
        }
      ],
      "source": [
        "pd.Series(np.linspace(0, 10, num=5)).to_frame()"
      ]
    },
    {
      "cell_type": "markdown",
      "metadata": {
        "id": "Fe8W17LQl18q"
      },
      "source": [
        "## Creating a `DataFrame` from Python Data Structures\n",
        "### From a dictionary of list-like structures\n",
        "The dictionary values can be lists, NumPy arrays, etc. as long as they have length (generators don't have length so we can't use them here):"
      ]
    },
    {
      "cell_type": "code",
      "execution_count": null,
      "metadata": {
        "id": "ccwrdf49l18r",
        "outputId": "4ff17f9e-900d-4ab2-c326-932eb676368e"
      },
      "outputs": [
        {
          "data": {
            "text/html": [
              "<div>\n",
              "<style scoped>\n",
              "    .dataframe tbody tr th:only-of-type {\n",
              "        vertical-align: middle;\n",
              "    }\n",
              "\n",
              "    .dataframe tbody tr th {\n",
              "        vertical-align: top;\n",
              "    }\n",
              "\n",
              "    .dataframe thead th {\n",
              "        text-align: right;\n",
              "    }\n",
              "</style>\n",
              "<table border=\"1\" class=\"dataframe\">\n",
              "  <thead>\n",
              "    <tr style=\"text-align: right;\">\n",
              "      <th></th>\n",
              "      <th>random</th>\n",
              "      <th>text</th>\n",
              "      <th>truth</th>\n",
              "    </tr>\n",
              "    <tr>\n",
              "      <th>date</th>\n",
              "      <th></th>\n",
              "      <th></th>\n",
              "      <th></th>\n",
              "    </tr>\n",
              "  </thead>\n",
              "  <tbody>\n",
              "    <tr>\n",
              "      <th>2019-04-17</th>\n",
              "      <td>0.548814</td>\n",
              "      <td>hot</td>\n",
              "      <td>False</td>\n",
              "    </tr>\n",
              "    <tr>\n",
              "      <th>2019-04-18</th>\n",
              "      <td>0.715189</td>\n",
              "      <td>warm</td>\n",
              "      <td>True</td>\n",
              "    </tr>\n",
              "    <tr>\n",
              "      <th>2019-04-19</th>\n",
              "      <td>0.602763</td>\n",
              "      <td>cool</td>\n",
              "      <td>True</td>\n",
              "    </tr>\n",
              "    <tr>\n",
              "      <th>2019-04-20</th>\n",
              "      <td>0.544883</td>\n",
              "      <td>cold</td>\n",
              "      <td>False</td>\n",
              "    </tr>\n",
              "    <tr>\n",
              "      <th>2019-04-21</th>\n",
              "      <td>0.423655</td>\n",
              "      <td>None</td>\n",
              "      <td>True</td>\n",
              "    </tr>\n",
              "  </tbody>\n",
              "</table>\n",
              "</div>"
            ],
            "text/plain": [
              "              random  text  truth\n",
              "date                             \n",
              "2019-04-17  0.548814   hot  False\n",
              "2019-04-18  0.715189  warm   True\n",
              "2019-04-19  0.602763  cool   True\n",
              "2019-04-20  0.544883  cold  False\n",
              "2019-04-21  0.423655  None   True"
            ]
          },
          "execution_count": 4,
          "metadata": {},
          "output_type": "execute_result"
        }
      ],
      "source": [
        "np.random.seed(0) # set seed so result is reproducible\n",
        "pd.DataFrame(\n",
        "    {\n",
        "        'random': np.random.rand(5),\n",
        "        'text': ['hot', 'warm', 'cool', 'cold', None],\n",
        "        'truth': [np.random.choice([True, False]) for _ in range(5)]\n",
        "    },\n",
        "    index=pd.date_range(\n",
        "        end=dt.date(2019, 4, 21),\n",
        "        freq='1D',\n",
        "        periods=5, # 5days in the data\n",
        "        name='date'\n",
        "    )\n",
        ")"
      ]
    },
    {
      "cell_type": "code",
      "source": [
        "pd.date_range(\n",
        "        end=dt.date(2019, 4, 21),\n",
        "        freq='1D',\n",
        "        periods=5,\n",
        "        name='date'\n",
        "    )"
      ],
      "metadata": {
        "id": "qbMeUQ6upraT",
        "outputId": "7daf2dc8-6255-4f46-ff89-85781d47db5a",
        "colab": {
          "base_uri": "https://localhost:8080/"
        }
      },
      "execution_count": 3,
      "outputs": [
        {
          "output_type": "execute_result",
          "data": {
            "text/plain": [
              "DatetimeIndex(['2019-04-17', '2019-04-18', '2019-04-19', '2019-04-20',\n",
              "               '2019-04-21'],\n",
              "              dtype='datetime64[ns]', name='date', freq='D')"
            ]
          },
          "metadata": {},
          "execution_count": 3
        }
      ]
    },
    {
      "cell_type": "markdown",
      "metadata": {
        "id": "L7xT-Yp3l18r"
      },
      "source": [
        "### From a list of dictionaries"
      ]
    },
    {
      "cell_type": "code",
      "execution_count": null,
      "metadata": {
        "id": "w8tNDh8Cl18r",
        "outputId": "686f0a25-a6b7-49eb-90a7-300155346a01"
      },
      "outputs": [
        {
          "data": {
            "text/html": [
              "<div>\n",
              "<style scoped>\n",
              "    .dataframe tbody tr th:only-of-type {\n",
              "        vertical-align: middle;\n",
              "    }\n",
              "\n",
              "    .dataframe tbody tr th {\n",
              "        vertical-align: top;\n",
              "    }\n",
              "\n",
              "    .dataframe thead th {\n",
              "        text-align: right;\n",
              "    }\n",
              "</style>\n",
              "<table border=\"1\" class=\"dataframe\">\n",
              "  <thead>\n",
              "    <tr style=\"text-align: right;\">\n",
              "      <th></th>\n",
              "      <th>mag</th>\n",
              "      <th>place</th>\n",
              "    </tr>\n",
              "  </thead>\n",
              "  <tbody>\n",
              "    <tr>\n",
              "      <th>0</th>\n",
              "      <td>5.2</td>\n",
              "      <td>California</td>\n",
              "    </tr>\n",
              "    <tr>\n",
              "      <th>1</th>\n",
              "      <td>1.2</td>\n",
              "      <td>Alaska</td>\n",
              "    </tr>\n",
              "    <tr>\n",
              "      <th>2</th>\n",
              "      <td>0.2</td>\n",
              "      <td>California</td>\n",
              "    </tr>\n",
              "  </tbody>\n",
              "</table>\n",
              "</div>"
            ],
            "text/plain": [
              "   mag       place\n",
              "0  5.2  California\n",
              "1  1.2      Alaska\n",
              "2  0.2  California"
            ]
          },
          "execution_count": 5,
          "metadata": {},
          "output_type": "execute_result"
        }
      ],
      "source": [
        "pd.DataFrame([\n",
        "    {'mag': 5.2, 'place': 'California'},\n",
        "    {'mag': 1.2, 'place': 'Alaska'},\n",
        "    {'mag': 0.2, 'place': 'California'},\n",
        "])"
      ]
    },
    {
      "cell_type": "markdown",
      "metadata": {
        "id": "fKC08q5zl18s"
      },
      "source": [
        "### From a list of tuples"
      ]
    },
    {
      "cell_type": "code",
      "execution_count": null,
      "metadata": {
        "id": "BC08FRpol18s",
        "outputId": "9fd83549-6ad4-46cc-cdcd-d9dbf1147e98"
      },
      "outputs": [
        {
          "data": {
            "text/plain": [
              "[(0, 0, 0), (1, 1, 1), (2, 4, 8), (3, 9, 27), (4, 16, 64)]"
            ]
          },
          "execution_count": 6,
          "metadata": {},
          "output_type": "execute_result"
        }
      ],
      "source": [
        "list_of_tuples = [(n, n**2, n**3) for n in range(5)]\n",
        "list_of_tuples"
      ]
    },
    {
      "cell_type": "code",
      "execution_count": null,
      "metadata": {
        "id": "ixFU7_VOl18s",
        "outputId": "13ac2516-9094-4baf-f0b1-e59ad641ede6"
      },
      "outputs": [
        {
          "data": {
            "text/html": [
              "<div>\n",
              "<style scoped>\n",
              "    .dataframe tbody tr th:only-of-type {\n",
              "        vertical-align: middle;\n",
              "    }\n",
              "\n",
              "    .dataframe tbody tr th {\n",
              "        vertical-align: top;\n",
              "    }\n",
              "\n",
              "    .dataframe thead th {\n",
              "        text-align: right;\n",
              "    }\n",
              "</style>\n",
              "<table border=\"1\" class=\"dataframe\">\n",
              "  <thead>\n",
              "    <tr style=\"text-align: right;\">\n",
              "      <th></th>\n",
              "      <th>n</th>\n",
              "      <th>n_squared</th>\n",
              "      <th>n_cubed</th>\n",
              "    </tr>\n",
              "  </thead>\n",
              "  <tbody>\n",
              "    <tr>\n",
              "      <th>0</th>\n",
              "      <td>0</td>\n",
              "      <td>0</td>\n",
              "      <td>0</td>\n",
              "    </tr>\n",
              "    <tr>\n",
              "      <th>1</th>\n",
              "      <td>1</td>\n",
              "      <td>1</td>\n",
              "      <td>1</td>\n",
              "    </tr>\n",
              "    <tr>\n",
              "      <th>2</th>\n",
              "      <td>2</td>\n",
              "      <td>4</td>\n",
              "      <td>8</td>\n",
              "    </tr>\n",
              "    <tr>\n",
              "      <th>3</th>\n",
              "      <td>3</td>\n",
              "      <td>9</td>\n",
              "      <td>27</td>\n",
              "    </tr>\n",
              "    <tr>\n",
              "      <th>4</th>\n",
              "      <td>4</td>\n",
              "      <td>16</td>\n",
              "      <td>64</td>\n",
              "    </tr>\n",
              "  </tbody>\n",
              "</table>\n",
              "</div>"
            ],
            "text/plain": [
              "   n  n_squared  n_cubed\n",
              "0  0          0        0\n",
              "1  1          1        1\n",
              "2  2          4        8\n",
              "3  3          9       27\n",
              "4  4         16       64"
            ]
          },
          "execution_count": 7,
          "metadata": {},
          "output_type": "execute_result"
        }
      ],
      "source": [
        "pd.DataFrame(\n",
        "    list_of_tuples,\n",
        "    columns=['n', 'n_squared', 'n_cubed']\n",
        ")"
      ]
    },
    {
      "cell_type": "markdown",
      "metadata": {
        "id": "vSr_-tLHl18s"
      },
      "source": [
        "### From a NumPy array"
      ]
    },
    {
      "cell_type": "code",
      "execution_count": null,
      "metadata": {
        "id": "b0dabJbbl18s",
        "outputId": "de738b65-805f-460d-c840-7cbd118375bc"
      },
      "outputs": [
        {
          "data": {
            "text/html": [
              "<div>\n",
              "<style scoped>\n",
              "    .dataframe tbody tr th:only-of-type {\n",
              "        vertical-align: middle;\n",
              "    }\n",
              "\n",
              "    .dataframe tbody tr th {\n",
              "        vertical-align: top;\n",
              "    }\n",
              "\n",
              "    .dataframe thead th {\n",
              "        text-align: right;\n",
              "    }\n",
              "</style>\n",
              "<table border=\"1\" class=\"dataframe\">\n",
              "  <thead>\n",
              "    <tr style=\"text-align: right;\">\n",
              "      <th></th>\n",
              "      <th>n</th>\n",
              "      <th>n_squared</th>\n",
              "      <th>n_cubed</th>\n",
              "    </tr>\n",
              "  </thead>\n",
              "  <tbody>\n",
              "    <tr>\n",
              "      <th>0</th>\n",
              "      <td>0</td>\n",
              "      <td>0</td>\n",
              "      <td>0</td>\n",
              "    </tr>\n",
              "    <tr>\n",
              "      <th>1</th>\n",
              "      <td>1</td>\n",
              "      <td>1</td>\n",
              "      <td>1</td>\n",
              "    </tr>\n",
              "    <tr>\n",
              "      <th>2</th>\n",
              "      <td>2</td>\n",
              "      <td>4</td>\n",
              "      <td>8</td>\n",
              "    </tr>\n",
              "    <tr>\n",
              "      <th>3</th>\n",
              "      <td>3</td>\n",
              "      <td>9</td>\n",
              "      <td>27</td>\n",
              "    </tr>\n",
              "    <tr>\n",
              "      <th>4</th>\n",
              "      <td>4</td>\n",
              "      <td>16</td>\n",
              "      <td>64</td>\n",
              "    </tr>\n",
              "  </tbody>\n",
              "</table>\n",
              "</div>"
            ],
            "text/plain": [
              "   n  n_squared  n_cubed\n",
              "0  0          0        0\n",
              "1  1          1        1\n",
              "2  2          4        8\n",
              "3  3          9       27\n",
              "4  4         16       64"
            ]
          },
          "execution_count": 8,
          "metadata": {},
          "output_type": "execute_result"
        }
      ],
      "source": [
        "pd.DataFrame(\n",
        "    np.array([\n",
        "        [0, 0, 0],\n",
        "        [1, 1, 1],\n",
        "        [2, 4, 8],\n",
        "        [3, 9, 27],\n",
        "        [4, 16, 64]\n",
        "    ]), columns=['n', 'n_squared', 'n_cubed']\n",
        ")"
      ]
    },
    {
      "cell_type": "markdown",
      "metadata": {
        "id": "ZRetUGAFl18s"
      },
      "source": [
        "## Creating a `DataFrame` object from the contents of a CSV File\n",
        "\n",
        "### Finding information on the file before reading it in\n",
        "Before attempting to read in a file, we can use the command line to see important information about the file that may determine how we read it in. We can run command line code from Jupyter Notebooks (thanks to IPython) by using `!` before the code.\n",
        "\n",
        "#### Number of lines (row count)\n",
        "For example, we can find out how many lines are in the file by using the `wc` utility (word count) and counting lines in the file (`-l`). The file has 9,333 lines:"
      ]
    },
    {
      "cell_type": "code",
      "execution_count": null,
      "metadata": {
        "id": "qK0OK-rYl18t",
        "outputId": "a5f185f9-02e1-4bb8-f3cc-c484ccec4fe6"
      },
      "outputs": [
        {
          "name": "stdout",
          "output_type": "stream",
          "text": [
            "9333 data/earthquakes.csv\n"
          ]
        }
      ],
      "source": [
        "!wc -l data/earthquakes.csv"
      ]
    },
    {
      "cell_type": "markdown",
      "metadata": {
        "id": "K_vCTqvRl18t"
      },
      "source": [
        "**Windows users**: if the above doesn't work for you (depends on your setup), then use this instead:\n",
        "\n",
        "```python\n",
        "!find /c /v \"\" data\\earthquakes.csv\n",
        "```\n",
        "\n",
        "\n",
        "\n",
        "#### File size\n",
        "We can find the file size by using `ls` to list the files in the `data` directory, and passing in the flags `-lh` to include the file size in human readable format. Then we use `grep` to find the file in question. Note that `|` passes the result of `ls` to `grep`. The `grep` utility is used for finding items that match patterns.\n",
        "\n",
        "This tells us the file is 3.4 MB:"
      ]
    },
    {
      "cell_type": "code",
      "execution_count": null,
      "metadata": {
        "id": "p9Q5I2U5l18t",
        "outputId": "8c7861db-99ac-4396-cbe1-5b8d3ca54f71"
      },
      "outputs": [
        {
          "name": "stdout",
          "output_type": "stream",
          "text": [
            "-rw-r--r-- 1 stefanie stefanie 3.4M Aug 24 17:39 earthquakes.csv\n"
          ]
        }
      ],
      "source": [
        "!ls -lh data | grep earthquakes.csv"
      ]
    },
    {
      "cell_type": "markdown",
      "metadata": {
        "id": "oAJ8wv2Ml18t"
      },
      "source": [
        "**Windows users**: if the above doesn't work for you (depends on your setup), then use this instead:\n",
        "\n",
        "```python\n",
        "!dir data | findstr \"earthquakes.csv\"\n",
        "```\n",
        "\n",
        "We can even capture the result of a command and use it in our Python code:"
      ]
    },
    {
      "cell_type": "code",
      "execution_count": null,
      "metadata": {
        "id": "UXhHTgiSl18t",
        "outputId": "9e118921-cc1d-49fe-9859-f36f51f5611b"
      },
      "outputs": [
        {
          "data": {
            "text/plain": [
              "['-rw-r--r-- 1 stefanie stefanie 3.4M Aug 24 17:39 earthquakes.csv']"
            ]
          },
          "execution_count": 11,
          "metadata": {},
          "output_type": "execute_result"
        }
      ],
      "source": [
        "files = !ls -lh data\n",
        "[file for file in files if 'earthquake' in file]"
      ]
    },
    {
      "cell_type": "markdown",
      "metadata": {
        "id": "sjKmo4W1l18t"
      },
      "source": [
        "**Windows users**: if the above doesn't work for you (depends on your setup), then use this instead:\n",
        "\n",
        "```python\n",
        "files = !dir data\n",
        "[file for file in files if 'earthquake' in file]\n",
        "```\n",
        "\n",
        "\n",
        "#### Examining a few rows\n",
        "We can use `head` to look at the top `n` rows of the file. With the `-n` flag, we can specify how many. This shows use that the first row of the file contains headers and that it is comma-separated (just because the file extension is `.csv` doesn't it contains comma-separated values):"
      ]
    },
    {
      "cell_type": "code",
      "execution_count": 5,
      "metadata": {
        "id": "sODtAU3Sl18u",
        "outputId": "d5f1732e-6208-46de-80ed-82603feebf50",
        "colab": {
          "base_uri": "https://localhost:8080/"
        }
      },
      "outputs": [
        {
          "output_type": "stream",
          "name": "stdout",
          "text": [
            "alert,cdi,code,detail,dmin,felt,gap,ids,mag,magType,mmi,net,nst,place,rms,sig,sources,status,time,title,tsunami,type,types,tz,updated,url\n",
            ",,37389218,https://earthquake.usgs.gov/fdsnws/event/1/query?eventid=ci37389218&format=geojson,0.008693,,85.0,\",ci37389218,\",1.35,ml,,ci,26.0,\"9km NE of Aguanga, CA\",0.19,28,\",ci,\",automatic,1539475168010,\"M 1.4 - 9km NE of Aguanga, CA\",0,earthquake,\",geoserve,nearby-cities,origin,phase-data,\",-480.0,1539475395144,https://earthquake.usgs.gov/earthquakes/eventpage/ci37389218\n"
          ]
        }
      ],
      "source": [
        "!head -n 2 data/earthquakes.csv"
      ]
    },
    {
      "cell_type": "code",
      "source": [
        "!head -n 5 data/earthquakes.csv"
      ],
      "metadata": {
        "id": "_K6s3aD2qTNL",
        "outputId": "051e46b6-fab0-4583-d6de-611984380d1d",
        "colab": {
          "base_uri": "https://localhost:8080/"
        }
      },
      "execution_count": 4,
      "outputs": [
        {
          "output_type": "stream",
          "name": "stdout",
          "text": [
            "alert,cdi,code,detail,dmin,felt,gap,ids,mag,magType,mmi,net,nst,place,rms,sig,sources,status,time,title,tsunami,type,types,tz,updated,url\n",
            ",,37389218,https://earthquake.usgs.gov/fdsnws/event/1/query?eventid=ci37389218&format=geojson,0.008693,,85.0,\",ci37389218,\",1.35,ml,,ci,26.0,\"9km NE of Aguanga, CA\",0.19,28,\",ci,\",automatic,1539475168010,\"M 1.4 - 9km NE of Aguanga, CA\",0,earthquake,\",geoserve,nearby-cities,origin,phase-data,\",-480.0,1539475395144,https://earthquake.usgs.gov/earthquakes/eventpage/ci37389218\n",
            ",,37389202,https://earthquake.usgs.gov/fdsnws/event/1/query?eventid=ci37389202&format=geojson,0.02003,,79.0,\",ci37389202,\",1.29,ml,,ci,20.0,\"9km NE of Aguanga, CA\",0.29,26,\",ci,\",automatic,1539475129610,\"M 1.3 - 9km NE of Aguanga, CA\",0,earthquake,\",geoserve,nearby-cities,origin,phase-data,\",-480.0,1539475253925,https://earthquake.usgs.gov/earthquakes/eventpage/ci37389202\n",
            ",4.4,37389194,https://earthquake.usgs.gov/fdsnws/event/1/query?eventid=ci37389194&format=geojson,0.02137,28.0,21.0,\",ci37389194,\",3.42,ml,,ci,111.0,\"8km NE of Aguanga, CA\",0.22,192,\",ci,\",automatic,1539475062610,\"M 3.4 - 8km NE of Aguanga, CA\",0,earthquake,\",dyfi,focal-mechanism,geoserve,nearby-cities,origin,phase-data,\",-480.0,1539536756176,https://earthquake.usgs.gov/earthquakes/eventpage/ci37389194\n",
            ",,37389186,https://earthquake.usgs.gov/fdsnws/event/1/query?eventid=ci37389186&format=geojson,0.02618,,39.0,\",ci37389186,\",0.44,ml,,ci,26.0,\"9km NE of Aguanga, CA\",0.17,3,\",ci,\",automatic,1539474978070,\"M 0.4 - 9km NE of Aguanga, CA\",0,earthquake,\",geoserve,nearby-cities,origin,phase-data,\",-480.0,1539475196167,https://earthquake.usgs.gov/earthquakes/eventpage/ci37389186\n"
          ]
        }
      ]
    },
    {
      "cell_type": "markdown",
      "metadata": {
        "id": "x2UPV40ll18u"
      },
      "source": [
        "**Windows users**: if the above doesn't work for you (depends on your setup), then use this instead:\n",
        "\n",
        "```python\n",
        "n = 2\n",
        "with open('data/earthquakes.csv', 'r') as file:\n",
        "    for _ in range(n):\n",
        "        print(file.readline(), end='\\r')\n",
        "```\n",
        "\n",
        "\n",
        "Just like `head` gives rows from the top, `tail` gives rows from the bottom. This can help us check that there is no extraneous data on the bottom of the field, like perhaps some metadata about the fields that actually isn't part of the dataset:"
      ]
    },
    {
      "cell_type": "code",
      "execution_count": null,
      "metadata": {
        "id": "GdHLxRI3l18u",
        "outputId": "376bccd3-a42c-43a7-a7a2-477dd3f9d548"
      },
      "outputs": [
        {
          "name": "stdout",
          "output_type": "stream",
          "text": [
            ",,38063935,https://earthquake.usgs.gov/fdsnws/event/1/query?eventid=ci38063935&format=geojson,0.01698,,39.0,\",ci38063935,\",0.66,ml,,ci,24.0,\"9km NE of Aguanga, CA\",0.1,7,\",ci,\",reviewed,1537228864470,\"M 0.7 - 9km NE of Aguanga, CA\",0,earthquake,\",focal-mechanism,geoserve,nearby-cities,origin,phase-data,scitech-link,\",-480.0,1537305830770,https://earthquake.usgs.gov/earthquakes/eventpage/ci38063935\n"
          ]
        }
      ],
      "source": [
        "!tail -n 1 data/earthquakes.csv"
      ]
    },
    {
      "cell_type": "markdown",
      "metadata": {
        "id": "05Bv0TNFl18u"
      },
      "source": [
        "**Windows users**: if the above doesn't work for you (depends on your setup), then use this instead:\n",
        "\n",
        "```python\n",
        "import os\n",
        "\n",
        "with open('data/earthquakes.csv', 'rb') as file:\n",
        "    file.seek(0, os.SEEK_END)\n",
        "    while file.read(1) != b'\\n':\n",
        "        file.seek(-2, os.SEEK_CUR)\n",
        "    print(file.readline().decode())\n",
        "```\n",
        "\n",
        "*Note*: To inspect more than one row from the end of the file, you will have to use this instead, which requires reading the whole file:\n",
        "\n",
        "```python\n",
        "n = 2\n",
        "with open('data/earthquakes.csv', 'r') as file:\n",
        "    print('\\r'.join(file.readlines()[-n:]))\n",
        "```\n",
        "\n",
        "#### Column count\n",
        "We can use `awk` to find the column count. This is a utility for pattern scanning and processing. The `-F` flag allows us to specify the delimiter (comma, in this case). Then we specify what to do for each record in the file. We choose to print `NF` which is a predefined variable whose value is the number of fields in the current record. Here, we say `exit` so that we print the number of fields (columns, here) in the first row of the file, then we stop.\n",
        "\n",
        "This tells us we have 26 data columns:"
      ]
    },
    {
      "cell_type": "code",
      "execution_count": null,
      "metadata": {
        "id": "ZysZRvP2l18u",
        "outputId": "90821076-d663-471f-8563-29848f2ee7da"
      },
      "outputs": [
        {
          "name": "stdout",
          "output_type": "stream",
          "text": [
            "26\n"
          ]
        }
      ],
      "source": [
        "!awk -F',' '{print NF; exit}' data/earthquakes.csv"
      ]
    },
    {
      "cell_type": "markdown",
      "metadata": {
        "id": "IVcH70avl18u"
      },
      "source": [
        "**Windows users**: if the above or below don't work for you (depends on your setup), then use this instead:\n",
        "\n",
        "```python\n",
        "with open('data/earthquakes.csv', 'r') as file:\n",
        "    print(len(file.readline().split(',')))\n",
        "```\n",
        "\n",
        "\n",
        "Since we know the 1st line of the file had headers, and the file is comma-separated, we can also count the columns by using `head` to get headers and parsing them in Python:"
      ]
    },
    {
      "cell_type": "code",
      "execution_count": null,
      "metadata": {
        "id": "l1HCWBhtl18u",
        "outputId": "e010ee1d-9a40-4338-9df1-f00e9d00c9d8"
      },
      "outputs": [
        {
          "data": {
            "text/plain": [
              "26"
            ]
          },
          "execution_count": 15,
          "metadata": {},
          "output_type": "execute_result"
        }
      ],
      "source": [
        "headers = !head -n 1 data/earthquakes.csv\n",
        "len(headers[0].split(','))"
      ]
    },
    {
      "cell_type": "markdown",
      "metadata": {
        "id": "111g0iu9l18u"
      },
      "source": [
        "**Windows users**: if you had to use the alternatives above, consider trying out [Cygwin](https://www.cygwin.com) or [Windows Subsystem for Linux (WSL)](https://docs.microsoft.com/en-us/windows/wsl/about).\n",
        "\n",
        "### Reading in the file\n",
        "Our file is small in size, has headers in the first row, and is comma-separated, so we don't need to provide any additional arguments to read in the file with `pd.read_csv()`, but be sure to check the [documentation](http://pandas.pydata.org/pandas-docs/stable/reference/api/pandas.read_csv.html) for possible arguments:"
      ]
    },
    {
      "cell_type": "code",
      "execution_count": null,
      "metadata": {
        "id": "QEJDjBOAl18u"
      },
      "outputs": [],
      "source": [
        "df = pd.read_csv('data/earthquakes.csv')"
      ]
    },
    {
      "cell_type": "markdown",
      "metadata": {
        "id": "9QxYxH6Ml18v"
      },
      "source": [
        "Note that we can also pass in a URL. Let's read this same file from GitHub:"
      ]
    },
    {
      "cell_type": "code",
      "execution_count": null,
      "metadata": {
        "id": "7X-esR_ml18v"
      },
      "outputs": [],
      "source": [
        "df = pd.read_csv(\n",
        "    'https://github.com/stefmolin/'\n",
        "    'Hands-On-Data-Analysis-with-Pandas-2nd-edition'\n",
        "    '/blob/master/ch_02/data/earthquakes.csv?raw=True'\n",
        ")"
      ]
    },
    {
      "cell_type": "markdown",
      "metadata": {
        "id": "jYWR827Yl18v"
      },
      "source": [
        "Pandas is usually very good at figuring out which options to use based on the input data, so we often won't need to add arguments to the call; however, there are many options available should we need them, some of which include the following:\n",
        "\n",
        "| Parameter | Purpose |\n",
        "| --- | --- |\n",
        "| `sep` | Specifies the delimiter |\n",
        "| `header` | Row number where the column names are located; the default option has `pandas` infer whether they are present |\n",
        "| `names` | List of column names to use as the header |\n",
        "| `index_col` | Column to use as the index |\n",
        "| `usecols` | Specifies which columns to read in |\n",
        "| `dtype` | Specifies data types for the columns |\n",
        "| `converters` | Specifies functions for converting data in certain columns |\n",
        "| `skiprows` | Rows to skip |\n",
        "| `nrows` | Number of rows to read at a time (combine with `skiprows` to read a file bit by bit) |\n",
        "| `parse_dates` | Automatically parse columns containing dates into datetime objects |\n",
        "| `chunksize` | For reading the file in chunks |\n",
        "| `compression` | For reading in compressed files without extracting beforehand |\n",
        "| `encoding` | Specifies the file encoding |\n",
        "\n",
        "## Writing a `DataFrame` Object to a CSV File\n",
        "Note that the index of `df` is just row numbers, so we don't want to keep it. Therefore, we pass `index=False` to the `to_csv()` method:"
      ]
    },
    {
      "cell_type": "code",
      "execution_count": null,
      "metadata": {
        "id": "ykJZpZ9Dl18v"
      },
      "outputs": [],
      "source": [
        "df.to_csv('output.csv', index=False)"
      ]
    },
    {
      "cell_type": "markdown",
      "metadata": {
        "id": "DjEx6or0l18v"
      },
      "source": [
        "## Writing a `DataFrame` Object to a Database\n",
        "Note the `if_exists` parameter. By default, it will give you an error if you try to write a table that already exists. Here, we don't care if it is overwritten. Lastly, if we are interested in appending new rows, we set that to `'append'`."
      ]
    },
    {
      "cell_type": "code",
      "execution_count": null,
      "metadata": {
        "id": "LfBlZh1jl18v"
      },
      "outputs": [],
      "source": [
        "import sqlite3\n",
        "\n",
        "with sqlite3.connect('data/quakes.db') as connection:\n",
        "    pd.read_csv('data/tsunamis.csv').to_sql(\n",
        "        'tsunamis', connection, index=False, if_exists='replace'\n",
        "    )"
      ]
    },
    {
      "cell_type": "markdown",
      "metadata": {
        "id": "U4OM18IPl18v"
      },
      "source": [
        "## Creating a `DataFrame` Object by Querying a Database\n",
        "Using a SQLite database. Otherwise you need to install [SQLAlchemy](https://www.sqlalchemy.org/)."
      ]
    },
    {
      "cell_type": "code",
      "execution_count": null,
      "metadata": {
        "id": "f8qEIJo2l18v",
        "outputId": "b31ca2af-4c45-4fbb-da50-4c7f61843a1f"
      },
      "outputs": [
        {
          "data": {
            "text/html": [
              "<div>\n",
              "<style scoped>\n",
              "    .dataframe tbody tr th:only-of-type {\n",
              "        vertical-align: middle;\n",
              "    }\n",
              "\n",
              "    .dataframe tbody tr th {\n",
              "        vertical-align: top;\n",
              "    }\n",
              "\n",
              "    .dataframe thead th {\n",
              "        text-align: right;\n",
              "    }\n",
              "</style>\n",
              "<table border=\"1\" class=\"dataframe\">\n",
              "  <thead>\n",
              "    <tr style=\"text-align: right;\">\n",
              "      <th></th>\n",
              "      <th>alert</th>\n",
              "      <th>type</th>\n",
              "      <th>title</th>\n",
              "      <th>place</th>\n",
              "      <th>magType</th>\n",
              "      <th>mag</th>\n",
              "      <th>time</th>\n",
              "    </tr>\n",
              "  </thead>\n",
              "  <tbody>\n",
              "    <tr>\n",
              "      <th>0</th>\n",
              "      <td>None</td>\n",
              "      <td>earthquake</td>\n",
              "      <td>M 5.0 - 165km NNW of Flying Fish Cove, Christm...</td>\n",
              "      <td>165km NNW of Flying Fish Cove, Christmas Island</td>\n",
              "      <td>mww</td>\n",
              "      <td>5.0</td>\n",
              "      <td>1539459504090</td>\n",
              "    </tr>\n",
              "    <tr>\n",
              "      <th>1</th>\n",
              "      <td>green</td>\n",
              "      <td>earthquake</td>\n",
              "      <td>M 6.7 - 262km NW of Ozernovskiy, Russia</td>\n",
              "      <td>262km NW of Ozernovskiy, Russia</td>\n",
              "      <td>mww</td>\n",
              "      <td>6.7</td>\n",
              "      <td>1539429023560</td>\n",
              "    </tr>\n",
              "    <tr>\n",
              "      <th>2</th>\n",
              "      <td>green</td>\n",
              "      <td>earthquake</td>\n",
              "      <td>M 5.6 - 128km SE of Kimbe, Papua New Guinea</td>\n",
              "      <td>128km SE of Kimbe, Papua New Guinea</td>\n",
              "      <td>mww</td>\n",
              "      <td>5.6</td>\n",
              "      <td>1539312723620</td>\n",
              "    </tr>\n",
              "    <tr>\n",
              "      <th>3</th>\n",
              "      <td>green</td>\n",
              "      <td>earthquake</td>\n",
              "      <td>M 6.5 - 148km S of Severo-Kuril'sk, Russia</td>\n",
              "      <td>148km S of Severo-Kuril'sk, Russia</td>\n",
              "      <td>mww</td>\n",
              "      <td>6.5</td>\n",
              "      <td>1539213362130</td>\n",
              "    </tr>\n",
              "    <tr>\n",
              "      <th>4</th>\n",
              "      <td>green</td>\n",
              "      <td>earthquake</td>\n",
              "      <td>M 6.2 - 94km SW of Kokopo, Papua New Guinea</td>\n",
              "      <td>94km SW of Kokopo, Papua New Guinea</td>\n",
              "      <td>mww</td>\n",
              "      <td>6.2</td>\n",
              "      <td>1539208835130</td>\n",
              "    </tr>\n",
              "  </tbody>\n",
              "</table>\n",
              "</div>"
            ],
            "text/plain": [
              "   alert        type                                              title  \\\n",
              "0   None  earthquake  M 5.0 - 165km NNW of Flying Fish Cove, Christm...   \n",
              "1  green  earthquake            M 6.7 - 262km NW of Ozernovskiy, Russia   \n",
              "2  green  earthquake        M 5.6 - 128km SE of Kimbe, Papua New Guinea   \n",
              "3  green  earthquake         M 6.5 - 148km S of Severo-Kuril'sk, Russia   \n",
              "4  green  earthquake        M 6.2 - 94km SW of Kokopo, Papua New Guinea   \n",
              "\n",
              "                                             place magType  mag           time  \n",
              "0  165km NNW of Flying Fish Cove, Christmas Island     mww  5.0  1539459504090  \n",
              "1                  262km NW of Ozernovskiy, Russia     mww  6.7  1539429023560  \n",
              "2              128km SE of Kimbe, Papua New Guinea     mww  5.6  1539312723620  \n",
              "3               148km S of Severo-Kuril'sk, Russia     mww  6.5  1539213362130  \n",
              "4              94km SW of Kokopo, Papua New Guinea     mww  6.2  1539208835130  "
            ]
          },
          "execution_count": 20,
          "metadata": {},
          "output_type": "execute_result"
        }
      ],
      "source": [
        "import sqlite3\n",
        "\n",
        "with sqlite3.connect('data/quakes.db') as connection:\n",
        "    tsunamis = pd.read_sql('SELECT * FROM tsunamis', connection)\n",
        "\n",
        "tsunamis.head()"
      ]
    },
    {
      "cell_type": "code",
      "source": [
        "eq = pd.read_csv('data/earthquakes.csv')"
      ],
      "metadata": {
        "id": "5AsZEF-Zq_I8"
      },
      "execution_count": 6,
      "outputs": []
    },
    {
      "cell_type": "code",
      "source": [],
      "metadata": {
        "id": "d5dH5N2MrGyB"
      },
      "execution_count": null,
      "outputs": []
    },
    {
      "cell_type": "markdown",
      "metadata": {
        "id": "qDqBQAk6l180"
      },
      "source": [
        "<hr>\n",
        "<div>\n",
        "    <a href=\"./1-pandas_data_structures.ipynb\">\n",
        "        <button style=\"float: left;\">&#8592; Previous Notebook</button>\n",
        "    </a>\n",
        "    <a href=\"./3-making_dataframes_from_api_requests.ipynb\">\n",
        "        <button style=\"float: right;\">Next Notebook &#8594;</button>\n",
        "    </a>\n",
        "</div>\n",
        "<br>\n",
        "<hr>"
      ]
    },
    {
      "cell_type": "code",
      "source": [
        "dic ={'Name':['박범준','강태영','배현규','박혜원','김재환'],\n",
        "      'Hobby':['축구','숨쉬기','달리기','음악듣기','헬스'],\n",
        "      'Major':['통계','통계','통계','교육','축구']}\n",
        "df = pd.DataFrame(dic)"
      ],
      "metadata": {
        "id": "sdIheGhRrH0W"
      },
      "execution_count": 11,
      "outputs": []
    },
    {
      "cell_type": "code",
      "source": [
        "df"
      ],
      "metadata": {
        "id": "Uuzgm7mxspeY",
        "outputId": "93bf94ec-1ba1-4b04-c5f9-13c06a951ade",
        "colab": {
          "base_uri": "https://localhost:8080/",
          "height": 206
        }
      },
      "execution_count": 12,
      "outputs": [
        {
          "output_type": "execute_result",
          "data": {
            "text/plain": [
              "  Name Hobby Major\n",
              "0  박범준    축구    통계\n",
              "1  강태영   숨쉬기    통계\n",
              "2  배현규   달리기    통계\n",
              "3  박혜원  음악듣기    교육\n",
              "4  김재환    헬스    축구"
            ],
            "text/html": [
              "\n",
              "  <div id=\"df-4656d99d-8d2f-43f3-991f-9e8f86a31511\" class=\"colab-df-container\">\n",
              "    <div>\n",
              "<style scoped>\n",
              "    .dataframe tbody tr th:only-of-type {\n",
              "        vertical-align: middle;\n",
              "    }\n",
              "\n",
              "    .dataframe tbody tr th {\n",
              "        vertical-align: top;\n",
              "    }\n",
              "\n",
              "    .dataframe thead th {\n",
              "        text-align: right;\n",
              "    }\n",
              "</style>\n",
              "<table border=\"1\" class=\"dataframe\">\n",
              "  <thead>\n",
              "    <tr style=\"text-align: right;\">\n",
              "      <th></th>\n",
              "      <th>Name</th>\n",
              "      <th>Hobby</th>\n",
              "      <th>Major</th>\n",
              "    </tr>\n",
              "  </thead>\n",
              "  <tbody>\n",
              "    <tr>\n",
              "      <th>0</th>\n",
              "      <td>박범준</td>\n",
              "      <td>축구</td>\n",
              "      <td>통계</td>\n",
              "    </tr>\n",
              "    <tr>\n",
              "      <th>1</th>\n",
              "      <td>강태영</td>\n",
              "      <td>숨쉬기</td>\n",
              "      <td>통계</td>\n",
              "    </tr>\n",
              "    <tr>\n",
              "      <th>2</th>\n",
              "      <td>배현규</td>\n",
              "      <td>달리기</td>\n",
              "      <td>통계</td>\n",
              "    </tr>\n",
              "    <tr>\n",
              "      <th>3</th>\n",
              "      <td>박혜원</td>\n",
              "      <td>음악듣기</td>\n",
              "      <td>교육</td>\n",
              "    </tr>\n",
              "    <tr>\n",
              "      <th>4</th>\n",
              "      <td>김재환</td>\n",
              "      <td>헬스</td>\n",
              "      <td>축구</td>\n",
              "    </tr>\n",
              "  </tbody>\n",
              "</table>\n",
              "</div>\n",
              "    <div class=\"colab-df-buttons\">\n",
              "\n",
              "  <div class=\"colab-df-container\">\n",
              "    <button class=\"colab-df-convert\" onclick=\"convertToInteractive('df-4656d99d-8d2f-43f3-991f-9e8f86a31511')\"\n",
              "            title=\"Convert this dataframe to an interactive table.\"\n",
              "            style=\"display:none;\">\n",
              "\n",
              "  <svg xmlns=\"http://www.w3.org/2000/svg\" height=\"24px\" viewBox=\"0 -960 960 960\">\n",
              "    <path d=\"M120-120v-720h720v720H120Zm60-500h600v-160H180v160Zm220 220h160v-160H400v160Zm0 220h160v-160H400v160ZM180-400h160v-160H180v160Zm440 0h160v-160H620v160ZM180-180h160v-160H180v160Zm440 0h160v-160H620v160Z\"/>\n",
              "  </svg>\n",
              "    </button>\n",
              "\n",
              "  <style>\n",
              "    .colab-df-container {\n",
              "      display:flex;\n",
              "      gap: 12px;\n",
              "    }\n",
              "\n",
              "    .colab-df-convert {\n",
              "      background-color: #E8F0FE;\n",
              "      border: none;\n",
              "      border-radius: 50%;\n",
              "      cursor: pointer;\n",
              "      display: none;\n",
              "      fill: #1967D2;\n",
              "      height: 32px;\n",
              "      padding: 0 0 0 0;\n",
              "      width: 32px;\n",
              "    }\n",
              "\n",
              "    .colab-df-convert:hover {\n",
              "      background-color: #E2EBFA;\n",
              "      box-shadow: 0px 1px 2px rgba(60, 64, 67, 0.3), 0px 1px 3px 1px rgba(60, 64, 67, 0.15);\n",
              "      fill: #174EA6;\n",
              "    }\n",
              "\n",
              "    .colab-df-buttons div {\n",
              "      margin-bottom: 4px;\n",
              "    }\n",
              "\n",
              "    [theme=dark] .colab-df-convert {\n",
              "      background-color: #3B4455;\n",
              "      fill: #D2E3FC;\n",
              "    }\n",
              "\n",
              "    [theme=dark] .colab-df-convert:hover {\n",
              "      background-color: #434B5C;\n",
              "      box-shadow: 0px 1px 3px 1px rgba(0, 0, 0, 0.15);\n",
              "      filter: drop-shadow(0px 1px 2px rgba(0, 0, 0, 0.3));\n",
              "      fill: #FFFFFF;\n",
              "    }\n",
              "  </style>\n",
              "\n",
              "    <script>\n",
              "      const buttonEl =\n",
              "        document.querySelector('#df-4656d99d-8d2f-43f3-991f-9e8f86a31511 button.colab-df-convert');\n",
              "      buttonEl.style.display =\n",
              "        google.colab.kernel.accessAllowed ? 'block' : 'none';\n",
              "\n",
              "      async function convertToInteractive(key) {\n",
              "        const element = document.querySelector('#df-4656d99d-8d2f-43f3-991f-9e8f86a31511');\n",
              "        const dataTable =\n",
              "          await google.colab.kernel.invokeFunction('convertToInteractive',\n",
              "                                                    [key], {});\n",
              "        if (!dataTable) return;\n",
              "\n",
              "        const docLinkHtml = 'Like what you see? Visit the ' +\n",
              "          '<a target=\"_blank\" href=https://colab.research.google.com/notebooks/data_table.ipynb>data table notebook</a>'\n",
              "          + ' to learn more about interactive tables.';\n",
              "        element.innerHTML = '';\n",
              "        dataTable['output_type'] = 'display_data';\n",
              "        await google.colab.output.renderOutput(dataTable, element);\n",
              "        const docLink = document.createElement('div');\n",
              "        docLink.innerHTML = docLinkHtml;\n",
              "        element.appendChild(docLink);\n",
              "      }\n",
              "    </script>\n",
              "  </div>\n",
              "\n",
              "\n",
              "<div id=\"df-7834ef32-e81f-41f0-8a1c-c483faf54102\">\n",
              "  <button class=\"colab-df-quickchart\" onclick=\"quickchart('df-7834ef32-e81f-41f0-8a1c-c483faf54102')\"\n",
              "            title=\"Suggest charts\"\n",
              "            style=\"display:none;\">\n",
              "\n",
              "<svg xmlns=\"http://www.w3.org/2000/svg\" height=\"24px\"viewBox=\"0 0 24 24\"\n",
              "     width=\"24px\">\n",
              "    <g>\n",
              "        <path d=\"M19 3H5c-1.1 0-2 .9-2 2v14c0 1.1.9 2 2 2h14c1.1 0 2-.9 2-2V5c0-1.1-.9-2-2-2zM9 17H7v-7h2v7zm4 0h-2V7h2v10zm4 0h-2v-4h2v4z\"/>\n",
              "    </g>\n",
              "</svg>\n",
              "  </button>\n",
              "\n",
              "<style>\n",
              "  .colab-df-quickchart {\n",
              "      --bg-color: #E8F0FE;\n",
              "      --fill-color: #1967D2;\n",
              "      --hover-bg-color: #E2EBFA;\n",
              "      --hover-fill-color: #174EA6;\n",
              "      --disabled-fill-color: #AAA;\n",
              "      --disabled-bg-color: #DDD;\n",
              "  }\n",
              "\n",
              "  [theme=dark] .colab-df-quickchart {\n",
              "      --bg-color: #3B4455;\n",
              "      --fill-color: #D2E3FC;\n",
              "      --hover-bg-color: #434B5C;\n",
              "      --hover-fill-color: #FFFFFF;\n",
              "      --disabled-bg-color: #3B4455;\n",
              "      --disabled-fill-color: #666;\n",
              "  }\n",
              "\n",
              "  .colab-df-quickchart {\n",
              "    background-color: var(--bg-color);\n",
              "    border: none;\n",
              "    border-radius: 50%;\n",
              "    cursor: pointer;\n",
              "    display: none;\n",
              "    fill: var(--fill-color);\n",
              "    height: 32px;\n",
              "    padding: 0;\n",
              "    width: 32px;\n",
              "  }\n",
              "\n",
              "  .colab-df-quickchart:hover {\n",
              "    background-color: var(--hover-bg-color);\n",
              "    box-shadow: 0 1px 2px rgba(60, 64, 67, 0.3), 0 1px 3px 1px rgba(60, 64, 67, 0.15);\n",
              "    fill: var(--button-hover-fill-color);\n",
              "  }\n",
              "\n",
              "  .colab-df-quickchart-complete:disabled,\n",
              "  .colab-df-quickchart-complete:disabled:hover {\n",
              "    background-color: var(--disabled-bg-color);\n",
              "    fill: var(--disabled-fill-color);\n",
              "    box-shadow: none;\n",
              "  }\n",
              "\n",
              "  .colab-df-spinner {\n",
              "    border: 2px solid var(--fill-color);\n",
              "    border-color: transparent;\n",
              "    border-bottom-color: var(--fill-color);\n",
              "    animation:\n",
              "      spin 1s steps(1) infinite;\n",
              "  }\n",
              "\n",
              "  @keyframes spin {\n",
              "    0% {\n",
              "      border-color: transparent;\n",
              "      border-bottom-color: var(--fill-color);\n",
              "      border-left-color: var(--fill-color);\n",
              "    }\n",
              "    20% {\n",
              "      border-color: transparent;\n",
              "      border-left-color: var(--fill-color);\n",
              "      border-top-color: var(--fill-color);\n",
              "    }\n",
              "    30% {\n",
              "      border-color: transparent;\n",
              "      border-left-color: var(--fill-color);\n",
              "      border-top-color: var(--fill-color);\n",
              "      border-right-color: var(--fill-color);\n",
              "    }\n",
              "    40% {\n",
              "      border-color: transparent;\n",
              "      border-right-color: var(--fill-color);\n",
              "      border-top-color: var(--fill-color);\n",
              "    }\n",
              "    60% {\n",
              "      border-color: transparent;\n",
              "      border-right-color: var(--fill-color);\n",
              "    }\n",
              "    80% {\n",
              "      border-color: transparent;\n",
              "      border-right-color: var(--fill-color);\n",
              "      border-bottom-color: var(--fill-color);\n",
              "    }\n",
              "    90% {\n",
              "      border-color: transparent;\n",
              "      border-bottom-color: var(--fill-color);\n",
              "    }\n",
              "  }\n",
              "</style>\n",
              "\n",
              "  <script>\n",
              "    async function quickchart(key) {\n",
              "      const quickchartButtonEl =\n",
              "        document.querySelector('#' + key + ' button');\n",
              "      quickchartButtonEl.disabled = true;  // To prevent multiple clicks.\n",
              "      quickchartButtonEl.classList.add('colab-df-spinner');\n",
              "      try {\n",
              "        const charts = await google.colab.kernel.invokeFunction(\n",
              "            'suggestCharts', [key], {});\n",
              "      } catch (error) {\n",
              "        console.error('Error during call to suggestCharts:', error);\n",
              "      }\n",
              "      quickchartButtonEl.classList.remove('colab-df-spinner');\n",
              "      quickchartButtonEl.classList.add('colab-df-quickchart-complete');\n",
              "    }\n",
              "    (() => {\n",
              "      let quickchartButtonEl =\n",
              "        document.querySelector('#df-7834ef32-e81f-41f0-8a1c-c483faf54102 button');\n",
              "      quickchartButtonEl.style.display =\n",
              "        google.colab.kernel.accessAllowed ? 'block' : 'none';\n",
              "    })();\n",
              "  </script>\n",
              "</div>\n",
              "\n",
              "  <div id=\"id_065a55af-4f46-49dd-9777-1d35728a5828\">\n",
              "    <style>\n",
              "      .colab-df-generate {\n",
              "        background-color: #E8F0FE;\n",
              "        border: none;\n",
              "        border-radius: 50%;\n",
              "        cursor: pointer;\n",
              "        display: none;\n",
              "        fill: #1967D2;\n",
              "        height: 32px;\n",
              "        padding: 0 0 0 0;\n",
              "        width: 32px;\n",
              "      }\n",
              "\n",
              "      .colab-df-generate:hover {\n",
              "        background-color: #E2EBFA;\n",
              "        box-shadow: 0px 1px 2px rgba(60, 64, 67, 0.3), 0px 1px 3px 1px rgba(60, 64, 67, 0.15);\n",
              "        fill: #174EA6;\n",
              "      }\n",
              "\n",
              "      [theme=dark] .colab-df-generate {\n",
              "        background-color: #3B4455;\n",
              "        fill: #D2E3FC;\n",
              "      }\n",
              "\n",
              "      [theme=dark] .colab-df-generate:hover {\n",
              "        background-color: #434B5C;\n",
              "        box-shadow: 0px 1px 3px 1px rgba(0, 0, 0, 0.15);\n",
              "        filter: drop-shadow(0px 1px 2px rgba(0, 0, 0, 0.3));\n",
              "        fill: #FFFFFF;\n",
              "      }\n",
              "    </style>\n",
              "    <button class=\"colab-df-generate\" onclick=\"generateWithVariable('df')\"\n",
              "            title=\"Generate code using this dataframe.\"\n",
              "            style=\"display:none;\">\n",
              "\n",
              "  <svg xmlns=\"http://www.w3.org/2000/svg\" height=\"24px\"viewBox=\"0 0 24 24\"\n",
              "       width=\"24px\">\n",
              "    <path d=\"M7,19H8.4L18.45,9,17,7.55,7,17.6ZM5,21V16.75L18.45,3.32a2,2,0,0,1,2.83,0l1.4,1.43a1.91,1.91,0,0,1,.58,1.4,1.91,1.91,0,0,1-.58,1.4L9.25,21ZM18.45,9,17,7.55Zm-12,3A5.31,5.31,0,0,0,4.9,8.1,5.31,5.31,0,0,0,1,6.5,5.31,5.31,0,0,0,4.9,4.9,5.31,5.31,0,0,0,6.5,1,5.31,5.31,0,0,0,8.1,4.9,5.31,5.31,0,0,0,12,6.5,5.46,5.46,0,0,0,6.5,12Z\"/>\n",
              "  </svg>\n",
              "    </button>\n",
              "    <script>\n",
              "      (() => {\n",
              "      const buttonEl =\n",
              "        document.querySelector('#id_065a55af-4f46-49dd-9777-1d35728a5828 button.colab-df-generate');\n",
              "      buttonEl.style.display =\n",
              "        google.colab.kernel.accessAllowed ? 'block' : 'none';\n",
              "\n",
              "      buttonEl.onclick = () => {\n",
              "        google.colab.notebook.generateWithVariable('df');\n",
              "      }\n",
              "      })();\n",
              "    </script>\n",
              "  </div>\n",
              "\n",
              "    </div>\n",
              "  </div>\n"
            ],
            "application/vnd.google.colaboratory.intrinsic+json": {
              "type": "dataframe",
              "variable_name": "df",
              "summary": "{\n  \"name\": \"df\",\n  \"rows\": 5,\n  \"fields\": [\n    {\n      \"column\": \"Name\",\n      \"properties\": {\n        \"dtype\": \"string\",\n        \"num_unique_values\": 5,\n        \"samples\": [\n          \"\\uac15\\ud0dc\\uc601\",\n          \"\\uae40\\uc7ac\\ud658\",\n          \"\\ubc30\\ud604\\uaddc\"\n        ],\n        \"semantic_type\": \"\",\n        \"description\": \"\"\n      }\n    },\n    {\n      \"column\": \"Hobby\",\n      \"properties\": {\n        \"dtype\": \"string\",\n        \"num_unique_values\": 5,\n        \"samples\": [\n          \"\\uc228\\uc26c\\uae30\",\n          \"\\ud5ec\\uc2a4\",\n          \"\\ub2ec\\ub9ac\\uae30\"\n        ],\n        \"semantic_type\": \"\",\n        \"description\": \"\"\n      }\n    },\n    {\n      \"column\": \"Major\",\n      \"properties\": {\n        \"dtype\": \"string\",\n        \"num_unique_values\": 3,\n        \"samples\": [\n          \"\\ud1b5\\uacc4\",\n          \"\\uad50\\uc721\",\n          \"\\ucd95\\uad6c\"\n        ],\n        \"semantic_type\": \"\",\n        \"description\": \"\"\n      }\n    }\n  ]\n}"
            }
          },
          "metadata": {},
          "execution_count": 12
        }
      ]
    },
    {
      "cell_type": "code",
      "source": [
        "df.to_csv('practice.csv',index=False)"
      ],
      "metadata": {
        "id": "X3Gu5rMYr_PZ"
      },
      "execution_count": 10,
      "outputs": []
    },
    {
      "cell_type": "code",
      "source": [],
      "metadata": {
        "id": "bHPLG0TRsL2W"
      },
      "execution_count": null,
      "outputs": []
    }
  ],
  "metadata": {
    "kernelspec": {
      "display_name": "Python 3",
      "language": "python",
      "name": "python3"
    },
    "language_info": {
      "codemirror_mode": {
        "name": "ipython",
        "version": 3
      },
      "file_extension": ".py",
      "mimetype": "text/x-python",
      "name": "python",
      "nbconvert_exporter": "python",
      "pygments_lexer": "ipython3",
      "version": "3.7.3"
    },
    "colab": {
      "provenance": []
    }
  },
  "nbformat": 4,
  "nbformat_minor": 0
}
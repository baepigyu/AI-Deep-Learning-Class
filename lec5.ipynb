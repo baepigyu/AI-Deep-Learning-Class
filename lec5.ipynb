{
  "nbformat": 4,
  "nbformat_minor": 0,
  "metadata": {
    "colab": {
      "provenance": [],
      "gpuType": "T4",
      "authorship_tag": "ABX9TyNp8V6RKkOXqpbR/r+yW7b6",
      "include_colab_link": true
    },
    "kernelspec": {
      "name": "python3",
      "display_name": "Python 3"
    },
    "language_info": {
      "name": "python"
    },
    "accelerator": "GPU"
  },
  "cells": [
    {
      "cell_type": "markdown",
      "metadata": {
        "id": "view-in-github",
        "colab_type": "text"
      },
      "source": [
        "<a href=\"https://colab.research.google.com/github/baepigyu/AI-Deep-Learning-Class/blob/main/lec5.ipynb\" target=\"_parent\"><img src=\"https://colab.research.google.com/assets/colab-badge.svg\" alt=\"Open In Colab\"/></a>"
      ]
    },
    {
      "cell_type": "code",
      "execution_count": null,
      "metadata": {
        "colab": {
          "base_uri": "https://localhost:8080/"
        },
        "id": "LNAYI1k0P9_7",
        "outputId": "c03023b4-2dff-4cc3-a0b3-f76755116e6f"
      },
      "outputs": [
        {
          "output_type": "stream",
          "name": "stdout",
          "text": [
            "Downloading data from https://storage.googleapis.com/tensorflow/tf-keras-datasets/boston_housing.npz\n",
            "57026/57026 [==============================] - 0s 0us/step\n"
          ]
        }
      ],
      "source": [
        "from tensorflow.keras.datasets import boston_housing\n",
        "(train_data, train_targets), (test_data, test_targets) = boston_housing.load_data()"
      ]
    },
    {
      "cell_type": "code",
      "source": [
        "from tensorflow import keras\n",
        "from tensorflow.keras import layers"
      ],
      "metadata": {
        "id": "snwz_rSQQ72c"
      },
      "execution_count": null,
      "outputs": []
    },
    {
      "cell_type": "code",
      "source": [
        "train_data.shape"
      ],
      "metadata": {
        "colab": {
          "base_uri": "https://localhost:8080/"
        },
        "id": "Vkp2BebaQMWE",
        "outputId": "dc748bbb-9ea4-432e-96ca-86c8d543b7d3"
      },
      "execution_count": null,
      "outputs": [
        {
          "output_type": "execute_result",
          "data": {
            "text/plain": [
              "(404, 13)"
            ]
          },
          "metadata": {},
          "execution_count": 3
        }
      ]
    },
    {
      "cell_type": "code",
      "source": [
        "train_targets.shape"
      ],
      "metadata": {
        "colab": {
          "base_uri": "https://localhost:8080/"
        },
        "id": "3H0fqkG_QYdI",
        "outputId": "84b0c1e0-1318-42b6-e020-8c2e63ffb663"
      },
      "execution_count": null,
      "outputs": [
        {
          "output_type": "execute_result",
          "data": {
            "text/plain": [
              "(404,)"
            ]
          },
          "metadata": {},
          "execution_count": 4
        }
      ]
    },
    {
      "cell_type": "code",
      "source": [
        "mean = train_data.mean(axis=0)\n",
        "mean.shape"
      ],
      "metadata": {
        "colab": {
          "base_uri": "https://localhost:8080/"
        },
        "id": "k5wQhi_tQc2n",
        "outputId": "659cae9d-463b-481f-c0f3-862f177a208d"
      },
      "execution_count": null,
      "outputs": [
        {
          "output_type": "execute_result",
          "data": {
            "text/plain": [
              "(13,)"
            ]
          },
          "metadata": {},
          "execution_count": 5
        }
      ]
    },
    {
      "cell_type": "code",
      "source": [
        "train_data -= mean\n",
        "std = train_data.std(axis = 0)\n",
        "train_data /=std\n",
        "test_data -= mean\n",
        "test_data /= std"
      ],
      "metadata": {
        "id": "Iu86O_02QlSz"
      },
      "execution_count": null,
      "outputs": []
    },
    {
      "cell_type": "code",
      "source": [
        "\n",
        "def build_model():\n",
        "    model = keras.Sequential([\n",
        "        layers.Dense(64,activation = 'relu'),\n",
        "        layers.Dense(64,activation = 'relu'),\n",
        "        layers.Dense(1)\n",
        "    ])\n",
        "    model.compile(optimizer = 'rmsprop',loss='mse',metrics = ['mae'])\n",
        "    return model"
      ],
      "metadata": {
        "id": "f1X-7ALrQxnG"
      },
      "execution_count": null,
      "outputs": []
    },
    {
      "cell_type": "code",
      "source": [
        "import numpy as np\n",
        "k = 4\n",
        "num_val_samples = len(train_data) // k\n",
        "num_epochs = 100\n",
        "all_scores = []\n",
        "num_epochs = 500\n",
        "all_mae_histories = []\n",
        "for i in range(k):\n",
        "    print(f\"#{i}번째 폴드 처리중\")\n",
        "    val_data = train_data[i * num_val_samples: (i + 1) * num_val_samples]\n",
        "    val_targets = train_targets[i * num_val_samples: (i + 1) * num_val_samples]\n",
        "    partial_train_data = np.concatenate(\n",
        "        [train_data[:i * num_val_samples],\n",
        "         train_data[(i + 1) * num_val_samples:]],\n",
        "        axis=0)\n",
        "    partial_train_targets = np.concatenate(\n",
        "        [train_targets[:i * num_val_samples],\n",
        "         train_targets[(i + 1) * num_val_samples:]],\n",
        "        axis=0)\n",
        "    model = build_model()\n",
        "    history = model.fit(partial_train_data, partial_train_targets,\n",
        "                        validation_data=(val_data, val_targets),\n",
        "                        epochs=num_epochs, batch_size=16, verbose=0)\n",
        "    mae_history = history.history[\"val_mae\"]\n",
        "    all_mae_histories.append(mae_history)"
      ],
      "metadata": {
        "colab": {
          "base_uri": "https://localhost:8080/"
        },
        "id": "6a5ATkolRlzP",
        "outputId": "7f33fa0f-d2b2-40f4-9f96-09ebc93f2757"
      },
      "execution_count": null,
      "outputs": [
        {
          "output_type": "stream",
          "name": "stdout",
          "text": [
            "#0번째 폴드 처리중\n",
            "#1번째 폴드 처리중\n",
            "#2번째 폴드 처리중\n",
            "#3번째 폴드 처리중\n"
          ]
        }
      ]
    },
    {
      "cell_type": "code",
      "source": [
        "import tensorflow as tf\n",
        "\n",
        "tf.keras.backend.set_floatx('float16')"
      ],
      "metadata": {
        "id": "-Y26Ihx0Rslt"
      },
      "execution_count": null,
      "outputs": []
    },
    {
      "cell_type": "code",
      "source": [
        "from tensorflow.keras.datasets import mnist\n",
        "import numpy as np\n",
        "(train_images,train_labels),_"
      ],
      "metadata": {
        "id": "Ho1VYcqoS3zW"
      },
      "execution_count": null,
      "outputs": []
    },
    {
      "cell_type": "code",
      "source": [
        "x_val = x_train[:1000]\n",
        "partial_x_train = x_train[1000:]\n",
        "y_val = y_train[:1000]\n",
        "partial_y_train = y_train[1000:]"
      ],
      "metadata": {
        "id": "jtWckgpoU7w5"
      },
      "execution_count": null,
      "outputs": []
    },
    {
      "cell_type": "code",
      "source": [
        "history = model.fit()"
      ],
      "metadata": {
        "id": "AHsCjjfOU4JF"
      },
      "execution_count": null,
      "outputs": []
    },
    {
      "cell_type": "code",
      "source": [
        "from tensorflow.keras.datasets import mnist\n",
        "import numpy as np\n",
        "\n",
        "(train_images, train_labels), _ = mnist.load_data()\n",
        "train_images = train_images.reshape((60000, 28 * 28))\n",
        "train_images = train_images.astype(\"float32\") / 255\n",
        "\n",
        "train_images_with_noise_channels = np.concatenate(\n",
        "    [train_images, np.random.random((len(train_images), 784))], axis=1)\n",
        "\n",
        "train_images_with_zeros_channels = np.concatenate(\n",
        "    [train_images, np.zeros((len(train_images), 784))], axis=1)"
      ],
      "metadata": {
        "colab": {
          "base_uri": "https://localhost:8080/"
        },
        "id": "NnBvbi9UVKp0",
        "outputId": "42956060-98c2-4d56-cbc4-76cad0e20420"
      },
      "execution_count": null,
      "outputs": [
        {
          "output_type": "stream",
          "name": "stdout",
          "text": [
            "Downloading data from https://storage.googleapis.com/tensorflow/tf-keras-datasets/mnist.npz\n",
            "11490434/11490434 [==============================] - 0s 0us/step\n"
          ]
        }
      ]
    },
    {
      "cell_type": "code",
      "source": [
        "train_images_with_noise_channels.shape"
      ],
      "metadata": {
        "colab": {
          "base_uri": "https://localhost:8080/"
        },
        "id": "WiyarHY5VRoB",
        "outputId": "c141f35c-35fe-42c4-9728-7c642eb5ed2b"
      },
      "execution_count": null,
      "outputs": [
        {
          "output_type": "execute_result",
          "data": {
            "text/plain": [
              "(60000, 1568)"
            ]
          },
          "metadata": {},
          "execution_count": 19
        }
      ]
    },
    {
      "cell_type": "code",
      "source": [
        "from tensorflow import keras\n",
        "from tensorflow.keras import layers\n",
        "\n",
        "def get_model():\n",
        "    model = keras.Sequential([\n",
        "        layers.Dense(512,activation = 'relu'),\n",
        "        layers.Dense(10,activation = 'relu')\n",
        "    ])\n",
        "    model.compile(optimizer = 'rmsprop',\n",
        "                  loss = 'sparse_categorical_crossentropy',\n",
        "                  metrics = ['accuracy'])\n",
        "    return model\n",
        "\n",
        "\n",
        "model = get_model()\n",
        "history_noise = model.fit(\n",
        "    train_images_with_noise_channels, train_labels,\n",
        "    epochs=10,\n",
        "    batch_size=128,\n",
        "    validation_split=0.2)\n",
        "\n",
        "model = get_model()\n",
        "history_zeros = model.fit(\n",
        "    train_images_with_zeros_channels, train_labels,\n",
        "    epochs=10,\n",
        "    batch_size=128,\n",
        "    validation_split=0.2)"
      ],
      "metadata": {
        "colab": {
          "base_uri": "https://localhost:8080/"
        },
        "id": "azyrmKwMVTvX",
        "outputId": "c676754e-c7df-43bb-eb5c-4219ed5882c4"
      },
      "execution_count": null,
      "outputs": [
        {
          "output_type": "stream",
          "name": "stdout",
          "text": [
            "Epoch 1/10\n",
            "375/375 [==============================] - 5s 4ms/step - loss: inf - accuracy: 0.1500 - val_loss: inf - val_accuracy: 0.1692\n",
            "Epoch 2/10\n",
            "375/375 [==============================] - 1s 3ms/step - loss: inf - accuracy: 0.1672 - val_loss: inf - val_accuracy: 0.1692\n",
            "Epoch 3/10\n",
            "375/375 [==============================] - 1s 3ms/step - loss: inf - accuracy: 0.1675 - val_loss: inf - val_accuracy: 0.1692\n",
            "Epoch 4/10\n",
            "375/375 [==============================] - 3s 9ms/step - loss: inf - accuracy: 0.1677 - val_loss: inf - val_accuracy: 0.1692\n",
            "Epoch 5/10\n",
            "375/375 [==============================] - 3s 7ms/step - loss: inf - accuracy: 0.1678 - val_loss: inf - val_accuracy: 0.1692\n",
            "Epoch 6/10\n",
            "375/375 [==============================] - 3s 8ms/step - loss: inf - accuracy: 0.1664 - val_loss: inf - val_accuracy: 0.1692\n",
            "Epoch 7/10\n",
            "375/375 [==============================] - 3s 8ms/step - loss: inf - accuracy: 0.1674 - val_loss: inf - val_accuracy: 0.1692\n",
            "Epoch 8/10\n",
            "375/375 [==============================] - 3s 8ms/step - loss: inf - accuracy: 0.1680 - val_loss: inf - val_accuracy: 0.1692\n",
            "Epoch 9/10\n",
            "375/375 [==============================] - 1s 4ms/step - loss: inf - accuracy: 0.1672 - val_loss: inf - val_accuracy: 0.1692\n",
            "Epoch 10/10\n",
            "375/375 [==============================] - 2s 5ms/step - loss: inf - accuracy: 0.1672 - val_loss: inf - val_accuracy: 0.1692\n",
            "Epoch 1/10\n",
            "375/375 [==============================] - 2s 4ms/step - loss: inf - accuracy: 0.2053 - val_loss: 2.2715 - val_accuracy: 0.1121\n",
            "Epoch 2/10\n",
            "375/375 [==============================] - 1s 4ms/step - loss: inf - accuracy: 0.1036 - val_loss: 2.2852 - val_accuracy: 0.1006\n",
            "Epoch 3/10\n",
            "375/375 [==============================] - 2s 6ms/step - loss: inf - accuracy: 0.1004 - val_loss: 2.2852 - val_accuracy: 0.1015\n",
            "Epoch 4/10\n",
            "375/375 [==============================] - 2s 4ms/step - loss: inf - accuracy: 0.1049 - val_loss: 2.2617 - val_accuracy: 0.1182\n",
            "Epoch 5/10\n",
            "375/375 [==============================] - 1s 3ms/step - loss: inf - accuracy: 0.1033 - val_loss: 2.2852 - val_accuracy: 0.0999\n",
            "Epoch 6/10\n",
            "375/375 [==============================] - 2s 4ms/step - loss: inf - accuracy: 0.0987 - val_loss: 2.2852 - val_accuracy: 0.0999\n",
            "Epoch 7/10\n",
            "375/375 [==============================] - 2s 4ms/step - loss: inf - accuracy: 0.0987 - val_loss: 2.2852 - val_accuracy: 0.0999\n",
            "Epoch 8/10\n",
            "375/375 [==============================] - 1s 4ms/step - loss: inf - accuracy: 0.0983 - val_loss: 2.2852 - val_accuracy: 0.0999\n",
            "Epoch 9/10\n",
            "375/375 [==============================] - 2s 5ms/step - loss: inf - accuracy: 0.0997 - val_loss: 2.2852 - val_accuracy: 0.0999\n",
            "Epoch 10/10\n",
            "375/375 [==============================] - 3s 9ms/step - loss: inf - accuracy: 0.0990 - val_loss: 2.2852 - val_accuracy: 0.0999\n"
          ]
        }
      ]
    },
    {
      "cell_type": "code",
      "source": [
        "import matplotlib.pyplot as plt\n",
        "val_acc_noise = history_noise.history[\"val_accuracy\"]\n",
        "val_acc_zeros = history_zeros.history[\"val_accuracy\"]\n",
        "epochs = range(1, 11)\n",
        "plt.plot(epochs, val_acc_noise, \"b-\",\n",
        "         label=\"Validation accuracy with noise channels\")\n",
        "plt.plot(epochs, val_acc_zeros, \"b--\",\n",
        "         label=\"Validation accuracy with zeros channels\")\n",
        "plt.title(\"Effect of noise channels on validation accuracy\")\n",
        "plt.xlabel(\"Epochs\")\n",
        "plt.ylabel(\"Accuracy\")\n",
        "plt.legend()\n",
        "plt.show()"
      ],
      "metadata": {
        "colab": {
          "base_uri": "https://localhost:8080/",
          "height": 472
        },
        "id": "kLjEHV62XNep",
        "outputId": "86591930-241e-4031-ef8f-89df6cdf6aec"
      },
      "execution_count": null,
      "outputs": [
        {
          "output_type": "display_data",
          "data": {
            "text/plain": [
              "<Figure size 640x480 with 1 Axes>"
            ],
            "image/png": "[encoded data removed]"
          },
          "metadata": {}
        }
      ]
    },
    {
      "cell_type": "code",
      "source": [
        "(train_images, train_labels), _ = mnist.load_data()"
      ],
      "metadata": {
        "id": "HxXCgQQqXJe5"
      },
      "execution_count": null,
      "outputs": []
    },
    {
      "cell_type": "code",
      "source": [
        "train_images.shape"
      ],
      "metadata": {
        "colab": {
          "base_uri": "https://localhost:8080/"
        },
        "id": "-Za-yOdrXTml",
        "outputId": "730a39f1-1677-45bd-971a-c772108bbb1b"
      },
      "execution_count": null,
      "outputs": [
        {
          "output_type": "execute_result",
          "data": {
            "text/plain": [
              "(60000, 28, 28)"
            ]
          },
          "metadata": {},
          "execution_count": 24
        }
      ]
    },
    {
      "cell_type": "code",
      "source": [
        "train_images = train_images.reshape((60000,28*28))\n",
        "train_images = train_images.astype('float32')/255\n",
        "random_train_labels = train_labels[:]\n",
        "np.random.shuffle(random_train_labels)\n",
        "\n",
        "model = keras.Sequential([\n",
        "    layers.Dense(512,activation = 'relu'),\n",
        "    layers.Dense(10, activation = 'relu'),\n",
        "])\n",
        "\n",
        "model.compile(optimizer ='rmsprop',\n",
        "              loss = 'sparse_categorical_crossentropy',\n",
        "              metrics = ['accuracy'])\n",
        "\n",
        "model.fit(train_images, random_train_labels,\n",
        "          epochs = 100,\n",
        "          batch_size = 128,\n",
        "          validation_split = 0.2)"
      ],
      "metadata": {
        "colab": {
          "base_uri": "https://localhost:8080/"
        },
        "id": "wA1xaDrRXWSf",
        "outputId": "0846041b-301f-4d2d-a4ee-d1c4cad1baab"
      },
      "execution_count": null,
      "outputs": [
        {
          "output_type": "stream",
          "name": "stdout",
          "text": [
            "Epoch 1/100\n",
            "375/375 [==============================] - 3s 5ms/step - loss: inf - accuracy: 0.0986 - val_loss: 2.2852 - val_accuracy: 0.1002\n",
            "Epoch 2/100\n",
            "375/375 [==============================] - 1s 3ms/step - loss: inf - accuracy: 0.0988 - val_loss: 2.2852 - val_accuracy: 0.1002\n",
            "Epoch 3/100\n",
            "375/375 [==============================] - 1s 3ms/step - loss: inf - accuracy: 0.0977 - val_loss: 2.2852 - val_accuracy: 0.1002\n",
            "Epoch 4/100\n",
            "375/375 [==============================] - 1s 3ms/step - loss: inf - accuracy: 0.0987 - val_loss: 2.2852 - val_accuracy: 0.1002\n",
            "Epoch 5/100\n",
            "375/375 [==============================] - 1s 4ms/step - loss: inf - accuracy: 0.0981 - val_loss: 2.2852 - val_accuracy: 0.1002\n",
            "Epoch 6/100\n",
            "375/375 [==============================] - 2s 4ms/step - loss: inf - accuracy: 0.0983 - val_loss: 2.2852 - val_accuracy: 0.1002\n",
            "Epoch 7/100\n",
            "375/375 [==============================] - 1s 3ms/step - loss: inf - accuracy: 0.0986 - val_loss: 2.2852 - val_accuracy: 0.1002\n",
            "Epoch 8/100\n",
            "375/375 [==============================] - 1s 3ms/step - loss: inf - accuracy: 0.0983 - val_loss: 2.2852 - val_accuracy: 0.1002\n",
            "Epoch 9/100\n",
            "375/375 [==============================] - 1s 3ms/step - loss: inf - accuracy: 0.0983 - val_loss: 2.2852 - val_accuracy: 0.1002\n",
            "Epoch 10/100\n",
            "375/375 [==============================] - 1s 3ms/step - loss: inf - accuracy: 0.0985 - val_loss: 2.2852 - val_accuracy: 0.1002\n",
            "Epoch 11/100\n",
            "375/375 [==============================] - 1s 3ms/step - loss: inf - accuracy: 0.0987 - val_loss: 2.2852 - val_accuracy: 0.1002\n",
            "Epoch 12/100\n",
            "375/375 [==============================] - 1s 3ms/step - loss: inf - accuracy: 0.0987 - val_loss: 2.2852 - val_accuracy: 0.1002\n",
            "Epoch 13/100\n",
            "375/375 [==============================] - 1s 3ms/step - loss: inf - accuracy: 0.0980 - val_loss: 2.2852 - val_accuracy: 0.1002\n",
            "Epoch 14/100\n",
            "375/375 [==============================] - 1s 3ms/step - loss: inf - accuracy: 0.0983 - val_loss: 2.2852 - val_accuracy: 0.1002\n",
            "Epoch 15/100\n",
            "375/375 [==============================] - 2s 4ms/step - loss: inf - accuracy: 0.0985 - val_loss: 2.2852 - val_accuracy: 0.1002\n",
            "Epoch 16/100\n",
            "375/375 [==============================] - 1s 3ms/step - loss: inf - accuracy: 0.0983 - val_loss: 2.2852 - val_accuracy: 0.1002\n",
            "Epoch 17/100\n",
            "375/375 [==============================] - 1s 3ms/step - loss: inf - accuracy: 0.0981 - val_loss: 2.2852 - val_accuracy: 0.1002\n",
            "Epoch 18/100\n",
            "375/375 [==============================] - 1s 3ms/step - loss: inf - accuracy: 0.0981 - val_loss: 2.2852 - val_accuracy: 0.1002\n",
            "Epoch 19/100\n",
            "375/375 [==============================] - 1s 3ms/step - loss: inf - accuracy: 0.0983 - val_loss: 2.2852 - val_accuracy: 0.1002\n",
            "Epoch 20/100\n",
            "375/375 [==============================] - 1s 3ms/step - loss: inf - accuracy: 0.0983 - val_loss: 2.2852 - val_accuracy: 0.1002\n",
            "Epoch 21/100\n",
            "375/375 [==============================] - 1s 3ms/step - loss: inf - accuracy: 0.0981 - val_loss: 2.2852 - val_accuracy: 0.1002\n",
            "Epoch 22/100\n",
            "375/375 [==============================] - 1s 3ms/step - loss: inf - accuracy: 0.0984 - val_loss: 2.2852 - val_accuracy: 0.1002\n",
            "Epoch 23/100\n",
            "375/375 [==============================] - 1s 3ms/step - loss: inf - accuracy: 0.0985 - val_loss: 2.2852 - val_accuracy: 0.1002\n",
            "Epoch 24/100\n",
            "375/375 [==============================] - 1s 4ms/step - loss: inf - accuracy: 0.0980 - val_loss: 2.2852 - val_accuracy: 0.1002\n",
            "Epoch 25/100\n",
            "375/375 [==============================] - 1s 4ms/step - loss: inf - accuracy: 0.0988 - val_loss: 2.2852 - val_accuracy: 0.1002\n",
            "Epoch 26/100\n",
            "375/375 [==============================] - 1s 3ms/step - loss: inf - accuracy: 0.0979 - val_loss: 2.2852 - val_accuracy: 0.1002\n",
            "Epoch 27/100\n",
            "375/375 [==============================] - 1s 3ms/step - loss: inf - accuracy: 0.0985 - val_loss: 2.2852 - val_accuracy: 0.1002\n",
            "Epoch 28/100\n",
            "375/375 [==============================] - 1s 3ms/step - loss: inf - accuracy: 0.0984 - val_loss: 2.2852 - val_accuracy: 0.1002\n",
            "Epoch 29/100\n",
            "375/375 [==============================] - 1s 3ms/step - loss: inf - accuracy: 0.0987 - val_loss: 2.2852 - val_accuracy: 0.1002\n",
            "Epoch 30/100\n",
            "375/375 [==============================] - 1s 3ms/step - loss: inf - accuracy: 0.0980 - val_loss: 2.2852 - val_accuracy: 0.1002\n",
            "Epoch 31/100\n",
            "375/375 [==============================] - 1s 3ms/step - loss: inf - accuracy: 0.0987 - val_loss: 2.2852 - val_accuracy: 0.1002\n",
            "Epoch 32/100\n",
            "375/375 [==============================] - 2s 5ms/step - loss: inf - accuracy: 0.0981 - val_loss: 2.2852 - val_accuracy: 0.1002\n",
            "Epoch 33/100\n",
            "375/375 [==============================] - 1s 4ms/step - loss: inf - accuracy: 0.0983 - val_loss: 2.2852 - val_accuracy: 0.1002\n",
            "Epoch 34/100\n",
            "375/375 [==============================] - 2s 4ms/step - loss: inf - accuracy: 0.0983 - val_loss: 2.2852 - val_accuracy: 0.1002\n",
            "Epoch 35/100\n",
            "375/375 [==============================] - 1s 3ms/step - loss: inf - accuracy: 0.0980 - val_loss: 2.2852 - val_accuracy: 0.1002\n",
            "Epoch 36/100\n",
            "375/375 [==============================] - 2s 4ms/step - loss: inf - accuracy: 0.0983 - val_loss: 2.2852 - val_accuracy: 0.1002\n",
            "Epoch 37/100\n",
            "375/375 [==============================] - 1s 3ms/step - loss: inf - accuracy: 0.0981 - val_loss: 2.2852 - val_accuracy: 0.1002\n",
            "Epoch 38/100\n",
            "375/375 [==============================] - 1s 3ms/step - loss: inf - accuracy: 0.0985 - val_loss: 2.2852 - val_accuracy: 0.1002\n",
            "Epoch 39/100\n",
            "375/375 [==============================] - 1s 3ms/step - loss: inf - accuracy: 0.0983 - val_loss: 2.2852 - val_accuracy: 0.1002\n",
            "Epoch 40/100\n",
            "375/375 [==============================] - 1s 3ms/step - loss: inf - accuracy: 0.0981 - val_loss: 2.2852 - val_accuracy: 0.1002\n",
            "Epoch 41/100\n",
            "375/375 [==============================] - 1s 3ms/step - loss: inf - accuracy: 0.0983 - val_loss: 2.2852 - val_accuracy: 0.1002\n",
            "Epoch 42/100\n",
            "375/375 [==============================] - 1s 4ms/step - loss: inf - accuracy: 0.0984 - val_loss: 2.2852 - val_accuracy: 0.1002\n",
            "Epoch 43/100\n",
            "375/375 [==============================] - 1s 4ms/step - loss: inf - accuracy: 0.0983 - val_loss: 2.2852 - val_accuracy: 0.1002\n",
            "Epoch 44/100\n",
            "375/375 [==============================] - 1s 3ms/step - loss: inf - accuracy: 0.0987 - val_loss: 2.2852 - val_accuracy: 0.1002\n",
            "Epoch 45/100\n",
            "375/375 [==============================] - 1s 3ms/step - loss: inf - accuracy: 0.0983 - val_loss: 2.2852 - val_accuracy: 0.1002\n",
            "Epoch 46/100\n",
            "375/375 [==============================] - 1s 3ms/step - loss: inf - accuracy: 0.0984 - val_loss: 2.2852 - val_accuracy: 0.1002\n",
            "Epoch 47/100\n",
            "375/375 [==============================] - 1s 3ms/step - loss: inf - accuracy: 0.0983 - val_loss: 2.2852 - val_accuracy: 0.1002\n",
            "Epoch 48/100\n",
            "375/375 [==============================] - 1s 3ms/step - loss: inf - accuracy: 0.0985 - val_loss: 2.2852 - val_accuracy: 0.1002\n",
            "Epoch 49/100\n",
            "375/375 [==============================] - 1s 3ms/step - loss: inf - accuracy: 0.0984 - val_loss: 2.2852 - val_accuracy: 0.1002\n",
            "Epoch 50/100\n",
            "375/375 [==============================] - 1s 3ms/step - loss: inf - accuracy: 0.0988 - val_loss: 2.2852 - val_accuracy: 0.1002\n",
            "Epoch 51/100\n",
            "375/375 [==============================] - 1s 3ms/step - loss: inf - accuracy: 0.0984 - val_loss: 2.2852 - val_accuracy: 0.1002\n",
            "Epoch 52/100\n",
            "375/375 [==============================] - 3s 7ms/step - loss: inf - accuracy: 0.0983 - val_loss: 2.2852 - val_accuracy: 0.1002\n",
            "Epoch 53/100\n",
            "375/375 [==============================] - 1s 3ms/step - loss: inf - accuracy: 0.0983 - val_loss: 2.2852 - val_accuracy: 0.1002\n",
            "Epoch 54/100\n",
            "375/375 [==============================] - 1s 3ms/step - loss: inf - accuracy: 0.0983 - val_loss: 2.2852 - val_accuracy: 0.1002\n",
            "Epoch 55/100\n",
            "375/375 [==============================] - 1s 3ms/step - loss: inf - accuracy: 0.0986 - val_loss: 2.2852 - val_accuracy: 0.1002\n",
            "Epoch 56/100\n",
            "375/375 [==============================] - 1s 3ms/step - loss: inf - accuracy: 0.0988 - val_loss: 2.2852 - val_accuracy: 0.1002\n",
            "Epoch 57/100\n",
            "375/375 [==============================] - 1s 3ms/step - loss: inf - accuracy: 0.0984 - val_loss: 2.2852 - val_accuracy: 0.1002\n",
            "Epoch 58/100\n",
            "375/375 [==============================] - 1s 3ms/step - loss: inf - accuracy: 0.0986 - val_loss: 2.2852 - val_accuracy: 0.1002\n",
            "Epoch 59/100\n",
            "375/375 [==============================] - 1s 3ms/step - loss: inf - accuracy: 0.0979 - val_loss: 2.2852 - val_accuracy: 0.1002\n",
            "Epoch 60/100\n",
            "375/375 [==============================] - 1s 3ms/step - loss: inf - accuracy: 0.0988 - val_loss: 2.2852 - val_accuracy: 0.1002\n",
            "Epoch 61/100\n",
            "375/375 [==============================] - 2s 4ms/step - loss: inf - accuracy: 0.0986 - val_loss: 2.2852 - val_accuracy: 0.1002\n",
            "Epoch 62/100\n",
            "375/375 [==============================] - 2s 4ms/step - loss: inf - accuracy: 0.0983 - val_loss: 2.2852 - val_accuracy: 0.1002\n",
            "Epoch 63/100\n",
            "375/375 [==============================] - 1s 3ms/step - loss: inf - accuracy: 0.0985 - val_loss: 2.2852 - val_accuracy: 0.1002\n",
            "Epoch 64/100\n",
            "375/375 [==============================] - 1s 3ms/step - loss: inf - accuracy: 0.0983 - val_loss: 2.2852 - val_accuracy: 0.1002\n",
            "Epoch 65/100\n",
            "375/375 [==============================] - 1s 3ms/step - loss: inf - accuracy: 0.0978 - val_loss: 2.2852 - val_accuracy: 0.1002\n",
            "Epoch 66/100\n",
            "375/375 [==============================] - 1s 3ms/step - loss: inf - accuracy: 0.0990 - val_loss: 2.2852 - val_accuracy: 0.1002\n",
            "Epoch 67/100\n",
            "375/375 [==============================] - 1s 4ms/step - loss: inf - accuracy: 0.0987 - val_loss: 2.2852 - val_accuracy: 0.1002\n",
            "Epoch 68/100\n",
            "375/375 [==============================] - 1s 3ms/step - loss: inf - accuracy: 0.0991 - val_loss: 2.2852 - val_accuracy: 0.1002\n",
            "Epoch 69/100\n",
            "375/375 [==============================] - 1s 3ms/step - loss: inf - accuracy: 0.0983 - val_loss: 2.2852 - val_accuracy: 0.1002\n",
            "Epoch 70/100\n",
            "375/375 [==============================] - 1s 4ms/step - loss: inf - accuracy: 0.0975 - val_loss: 2.2852 - val_accuracy: 0.1002\n",
            "Epoch 71/100\n",
            "375/375 [==============================] - 2s 4ms/step - loss: inf - accuracy: 0.0981 - val_loss: 2.2852 - val_accuracy: 0.1002\n",
            "Epoch 72/100\n",
            "375/375 [==============================] - 1s 3ms/step - loss: inf - accuracy: 0.0981 - val_loss: 2.2852 - val_accuracy: 0.1002\n",
            "Epoch 73/100\n",
            "375/375 [==============================] - 1s 3ms/step - loss: inf - accuracy: 0.0981 - val_loss: 2.2852 - val_accuracy: 0.1002\n",
            "Epoch 74/100\n",
            "375/375 [==============================] - 1s 3ms/step - loss: inf - accuracy: 0.0988 - val_loss: 2.2852 - val_accuracy: 0.1002\n",
            "Epoch 75/100\n",
            "375/375 [==============================] - 1s 3ms/step - loss: inf - accuracy: 0.0986 - val_loss: 2.2852 - val_accuracy: 0.1002\n",
            "Epoch 76/100\n",
            "375/375 [==============================] - 1s 3ms/step - loss: inf - accuracy: 0.0980 - val_loss: 2.2852 - val_accuracy: 0.1002\n",
            "Epoch 77/100\n",
            "375/375 [==============================] - 1s 3ms/step - loss: inf - accuracy: 0.0981 - val_loss: 2.2852 - val_accuracy: 0.1002\n",
            "Epoch 78/100\n",
            "375/375 [==============================] - 1s 3ms/step - loss: inf - accuracy: 0.0983 - val_loss: 2.2852 - val_accuracy: 0.1002\n",
            "Epoch 79/100\n",
            "375/375 [==============================] - 1s 3ms/step - loss: inf - accuracy: 0.0983 - val_loss: 2.2852 - val_accuracy: 0.1002\n",
            "Epoch 80/100\n",
            "375/375 [==============================] - 2s 4ms/step - loss: inf - accuracy: 0.0984 - val_loss: 2.2852 - val_accuracy: 0.1002\n",
            "Epoch 81/100\n",
            "375/375 [==============================] - 1s 4ms/step - loss: inf - accuracy: 0.0983 - val_loss: 2.2852 - val_accuracy: 0.1002\n",
            "Epoch 82/100\n",
            "375/375 [==============================] - 1s 3ms/step - loss: inf - accuracy: 0.0986 - val_loss: 2.2852 - val_accuracy: 0.1002\n",
            "Epoch 83/100\n",
            "375/375 [==============================] - 1s 3ms/step - loss: inf - accuracy: 0.0981 - val_loss: 2.2852 - val_accuracy: 0.1002\n",
            "Epoch 84/100\n",
            "375/375 [==============================] - 2s 4ms/step - loss: inf - accuracy: 0.0985 - val_loss: 2.2852 - val_accuracy: 0.1002\n",
            "Epoch 85/100\n",
            "375/375 [==============================] - 2s 4ms/step - loss: inf - accuracy: 0.0983 - val_loss: 2.2852 - val_accuracy: 0.1002\n",
            "Epoch 86/100\n",
            "375/375 [==============================] - 1s 3ms/step - loss: inf - accuracy: 0.0984 - val_loss: 2.2852 - val_accuracy: 0.1002\n",
            "Epoch 87/100\n",
            "375/375 [==============================] - 1s 3ms/step - loss: inf - accuracy: 0.0981 - val_loss: 2.2852 - val_accuracy: 0.1002\n",
            "Epoch 88/100\n",
            "375/375 [==============================] - 1s 3ms/step - loss: inf - accuracy: 0.0981 - val_loss: 2.2852 - val_accuracy: 0.1002\n",
            "Epoch 89/100\n",
            "375/375 [==============================] - 2s 6ms/step - loss: inf - accuracy: 0.0980 - val_loss: 2.2852 - val_accuracy: 0.1002\n",
            "Epoch 90/100\n",
            "375/375 [==============================] - 2s 5ms/step - loss: inf - accuracy: 0.0988 - val_loss: 2.2852 - val_accuracy: 0.1002\n",
            "Epoch 91/100\n",
            "375/375 [==============================] - 1s 3ms/step - loss: inf - accuracy: 0.0980 - val_loss: 2.2852 - val_accuracy: 0.1002\n",
            "Epoch 92/100\n",
            "375/375 [==============================] - 1s 3ms/step - loss: inf - accuracy: 0.0983 - val_loss: 2.2852 - val_accuracy: 0.1002\n",
            "Epoch 93/100\n",
            "375/375 [==============================] - 1s 3ms/step - loss: inf - accuracy: 0.0986 - val_loss: 2.2852 - val_accuracy: 0.1002\n",
            "Epoch 94/100\n",
            "375/375 [==============================] - 1s 3ms/step - loss: inf - accuracy: 0.0981 - val_loss: 2.2852 - val_accuracy: 0.1002\n",
            "Epoch 95/100\n",
            "375/375 [==============================] - 1s 3ms/step - loss: inf - accuracy: 0.0988 - val_loss: 2.2852 - val_accuracy: 0.1002\n",
            "Epoch 96/100\n",
            "375/375 [==============================] - 1s 3ms/step - loss: inf - accuracy: 0.0984 - val_loss: 2.2852 - val_accuracy: 0.1002\n",
            "Epoch 97/100\n",
            "375/375 [==============================] - 1s 3ms/step - loss: inf - accuracy: 0.0987 - val_loss: 2.2852 - val_accuracy: 0.1002\n",
            "Epoch 98/100\n",
            "375/375 [==============================] - 2s 4ms/step - loss: inf - accuracy: 0.0984 - val_loss: 2.2852 - val_accuracy: 0.1002\n",
            "Epoch 99/100\n",
            "375/375 [==============================] - 1s 3ms/step - loss: inf - accuracy: 0.0983 - val_loss: 2.2852 - val_accuracy: 0.1002\n",
            "Epoch 100/100\n",
            "375/375 [==============================] - 1s 3ms/step - loss: inf - accuracy: 0.0979 - val_loss: 2.2852 - val_accuracy: 0.1002\n"
          ]
        },
        {
          "output_type": "execute_result",
          "data": {
            "text/plain": [
              "<keras.src.callbacks.History at 0x796a4e732500>"
            ]
          },
          "metadata": {},
          "execution_count": 25
        }
      ]
    },
    {
      "cell_type": "code",
      "source": [
        "model = keras.Sequential([\n",
        "    layers.Dense(512, activation=\"relu\"),\n",
        "    layers.Dense(10, activation=\"softmax\")\n",
        "])\n",
        "model.compile(optimizer=keras.optimizers.RMSprop(1e-2),\n",
        "              loss=\"sparse_categorical_crossentropy\",\n",
        "              metrics=[\"accuracy\"])\n",
        "model.fit(train_images, train_labels,\n",
        "          epochs=10,\n",
        "          batch_size=128,\n",
        "          validation_split=0.2)"
      ],
      "metadata": {
        "colab": {
          "base_uri": "https://localhost:8080/"
        },
        "id": "EQ9TxyR2YfdH",
        "outputId": "44ae0661-d2b2-4092-c438-ac95f4875118"
      },
      "execution_count": null,
      "outputs": [
        {
          "output_type": "stream",
          "name": "stdout",
          "text": [
            "Epoch 1/10\n",
            "375/375 [==============================] - 2s 4ms/step - loss: inf - accuracy: 0.1077 - val_loss: 2.2871 - val_accuracy: 0.1118\n",
            "Epoch 2/10\n",
            "375/375 [==============================] - 1s 3ms/step - loss: inf - accuracy: 0.1119 - val_loss: 2.2852 - val_accuracy: 0.1107\n",
            "Epoch 3/10\n",
            "375/375 [==============================] - 1s 3ms/step - loss: inf - accuracy: 0.1117 - val_loss: 2.2969 - val_accuracy: 0.1093\n",
            "Epoch 4/10\n",
            "375/375 [==============================] - 1s 3ms/step - loss: inf - accuracy: 0.1120 - val_loss: 2.2852 - val_accuracy: 0.1108\n",
            "Epoch 5/10\n",
            "375/375 [==============================] - 1s 3ms/step - loss: inf - accuracy: 0.1129 - val_loss: 2.2871 - val_accuracy: 0.1109\n",
            "Epoch 6/10\n",
            "375/375 [==============================] - 1s 3ms/step - loss: inf - accuracy: 0.1135 - val_loss: 2.2910 - val_accuracy: 0.1040\n",
            "Epoch 7/10\n",
            "375/375 [==============================] - 2s 4ms/step - loss: inf - accuracy: 0.1154 - val_loss: 2.3105 - val_accuracy: 0.1115\n",
            "Epoch 8/10\n",
            "375/375 [==============================] - 1s 3ms/step - loss: inf - accuracy: 0.1147 - val_loss: 2.2969 - val_accuracy: 0.1099\n",
            "Epoch 9/10\n",
            "375/375 [==============================] - 1s 3ms/step - loss: inf - accuracy: 0.1154 - val_loss: 2.3105 - val_accuracy: 0.1111\n",
            "Epoch 10/10\n",
            "375/375 [==============================] - 1s 3ms/step - loss: inf - accuracy: 0.1175 - val_loss: 2.3164 - val_accuracy: 0.1123\n"
          ]
        },
        {
          "output_type": "execute_result",
          "data": {
            "text/plain": [
              "<keras.src.callbacks.History at 0x796ab00952d0>"
            ]
          },
          "metadata": {},
          "execution_count": 26
        }
      ]
    },
    {
      "cell_type": "code",
      "source": [
        "model = keras.Sequential([layers.Dense(10, activation=\"softmax\")])\n",
        "model.compile(optimizer=\"rmsprop\",\n",
        "              loss=\"sparse_categorical_crossentropy\",\n",
        "              metrics=[\"accuracy\"])\n",
        "history_small_model = model.fit(\n",
        "    train_images, train_labels,\n",
        "    epochs=20,\n",
        "    batch_size=128,\n",
        "    validation_split=0.2)"
      ],
      "metadata": {
        "colab": {
          "base_uri": "https://localhost:8080/"
        },
        "id": "iKtLisBOYrBf",
        "outputId": "508bff1d-6b4b-4d2e-f655-7782a93ac234"
      },
      "execution_count": null,
      "outputs": [
        {
          "output_type": "stream",
          "name": "stdout",
          "text": [
            "Epoch 1/20\n",
            "375/375 [==============================] - 2s 4ms/step - loss: inf - accuracy: 0.0999 - val_loss: 2.3320 - val_accuracy: 0.0944\n",
            "Epoch 2/20\n",
            "375/375 [==============================] - 1s 3ms/step - loss: inf - accuracy: 0.1077 - val_loss: 2.3281 - val_accuracy: 0.1040\n",
            "Epoch 3/20\n",
            "375/375 [==============================] - 1s 3ms/step - loss: inf - accuracy: 0.1146 - val_loss: 2.3262 - val_accuracy: 0.1017\n",
            "Epoch 4/20\n",
            "375/375 [==============================] - 1s 3ms/step - loss: inf - accuracy: 0.1170 - val_loss: 2.3281 - val_accuracy: 0.1046\n",
            "Epoch 5/20\n",
            "375/375 [==============================] - 1s 3ms/step - loss: inf - accuracy: 0.1199 - val_loss: 2.3281 - val_accuracy: 0.1018\n",
            "Epoch 6/20\n",
            "375/375 [==============================] - 1s 3ms/step - loss: inf - accuracy: 0.1227 - val_loss: 2.3281 - val_accuracy: 0.0993\n",
            "Epoch 7/20\n",
            "375/375 [==============================] - 1s 3ms/step - loss: inf - accuracy: 0.1255 - val_loss: 2.3262 - val_accuracy: 0.1045\n",
            "Epoch 8/20\n",
            "375/375 [==============================] - 1s 3ms/step - loss: inf - accuracy: 0.1272 - val_loss: 2.3340 - val_accuracy: 0.1035\n",
            "Epoch 9/20\n",
            "375/375 [==============================] - 1s 4ms/step - loss: inf - accuracy: 0.1302 - val_loss: 2.3320 - val_accuracy: 0.1031\n",
            "Epoch 10/20\n",
            "375/375 [==============================] - 1s 3ms/step - loss: inf - accuracy: 0.1299 - val_loss: 2.3340 - val_accuracy: 0.1076\n",
            "Epoch 11/20\n",
            "375/375 [==============================] - 1s 3ms/step - loss: inf - accuracy: 0.1306 - val_loss: 2.3301 - val_accuracy: 0.1014\n",
            "Epoch 12/20\n",
            "375/375 [==============================] - 1s 3ms/step - loss: inf - accuracy: 0.1321 - val_loss: 2.3301 - val_accuracy: 0.1040\n",
            "Epoch 13/20\n",
            "375/375 [==============================] - 1s 3ms/step - loss: inf - accuracy: 0.1328 - val_loss: 2.3320 - val_accuracy: 0.1090\n",
            "Epoch 14/20\n",
            "375/375 [==============================] - 1s 3ms/step - loss: inf - accuracy: 0.1331 - val_loss: 2.3340 - val_accuracy: 0.1026\n",
            "Epoch 15/20\n",
            "375/375 [==============================] - 1s 3ms/step - loss: inf - accuracy: 0.1339 - val_loss: 2.3379 - val_accuracy: 0.1068\n",
            "Epoch 16/20\n",
            "375/375 [==============================] - 1s 3ms/step - loss: inf - accuracy: 0.1344 - val_loss: 2.3418 - val_accuracy: 0.0997\n",
            "Epoch 17/20\n",
            "375/375 [==============================] - 1s 3ms/step - loss: inf - accuracy: 0.1383 - val_loss: 2.3398 - val_accuracy: 0.0993\n",
            "Epoch 18/20\n",
            "375/375 [==============================] - 1s 3ms/step - loss: inf - accuracy: 0.1376 - val_loss: 2.3418 - val_accuracy: 0.1002\n",
            "Epoch 19/20\n",
            "375/375 [==============================] - 1s 3ms/step - loss: inf - accuracy: 0.1364 - val_loss: 2.3477 - val_accuracy: 0.1021\n",
            "Epoch 20/20\n",
            "375/375 [==============================] - 1s 4ms/step - loss: inf - accuracy: 0.1361 - val_loss: 2.3418 - val_accuracy: 0.1008\n"
          ]
        }
      ]
    },
    {
      "cell_type": "code",
      "source": [
        "model = keras.Sequential([\n",
        "    layers.Dense(96,activation = 'relu'),\n",
        "    layers.Dense(96,activation = 'relu'),\n",
        "    layers.Dense(10,activation = 'softmax')\n",
        "])\n",
        "model.compile(op)"
      ],
      "metadata": {
        "id": "_H-D0IUBY6c1"
      },
      "execution_count": null,
      "outputs": []
    },
    {
      "cell_type": "code",
      "source": [
        "(train_images,train_labels),_ = mnist.load_data()\n",
        "train_images = train_images.reshape((60000, 28*28))\n",
        "train_images = train_images/ 255\n",
        "\n",
        "model = keras.Sequential([\n",
        "    layers.Dense(512,activation = 'relu'),\n",
        "    layers.Dense(10,activation = 'softmax')\n",
        "])\n",
        "model.compile(optimizer = keras.optimizers.RMSprop(1.),\n",
        "              loss = 'sparse_categorical_crossentropy',\n",
        "              metrics = ['accuracy'])\n",
        "model.fit(train_images, train_labels,\n",
        "          epochs = 10, batch_size = 128,\n",
        "          validation_split = 0.2)"
      ],
      "metadata": {
        "colab": {
          "base_uri": "https://localhost:8080/"
        },
        "id": "O88b-wR5aCgN",
        "outputId": "4116bbe7-daf5-4613-815a-0db6116fb2bd"
      },
      "execution_count": null,
      "outputs": [
        {
          "output_type": "stream",
          "name": "stdout",
          "text": [
            "Epoch 1/10\n",
            "375/375 [==============================] - 2s 4ms/step - loss: nan - accuracy: 0.0988 - val_loss: nan - val_accuracy: 0.0995\n",
            "Epoch 2/10\n",
            "375/375 [==============================] - 1s 3ms/step - loss: nan - accuracy: 0.0984 - val_loss: nan - val_accuracy: 0.0995\n",
            "Epoch 3/10\n",
            "375/375 [==============================] - 1s 3ms/step - loss: nan - accuracy: 0.0987 - val_loss: nan - val_accuracy: 0.0995\n",
            "Epoch 4/10\n",
            "375/375 [==============================] - 1s 3ms/step - loss: nan - accuracy: 0.0988 - val_loss: nan - val_accuracy: 0.0995\n",
            "Epoch 5/10\n",
            "375/375 [==============================] - 1s 3ms/step - loss: nan - accuracy: 0.0983 - val_loss: nan - val_accuracy: 0.0995\n",
            "Epoch 6/10\n",
            "375/375 [==============================] - 1s 3ms/step - loss: nan - accuracy: 0.0981 - val_loss: nan - val_accuracy: 0.0995\n",
            "Epoch 7/10\n",
            "375/375 [==============================] - 1s 3ms/step - loss: nan - accuracy: 0.0988 - val_loss: nan - val_accuracy: 0.0995\n",
            "Epoch 8/10\n",
            "375/375 [==============================] - 1s 3ms/step - loss: nan - accuracy: 0.0988 - val_loss: nan - val_accuracy: 0.0995\n",
            "Epoch 9/10\n",
            "375/375 [==============================] - 1s 3ms/step - loss: nan - accuracy: 0.0984 - val_loss: nan - val_accuracy: 0.0995\n",
            "Epoch 10/10\n",
            "375/375 [==============================] - 2s 4ms/step - loss: nan - accuracy: 0.0987 - val_loss: nan - val_accuracy: 0.0995\n"
          ]
        },
        {
          "output_type": "execute_result",
          "data": {
            "text/plain": [
              "<keras.src.callbacks.History at 0x796a4e227d30>"
            ]
          },
          "metadata": {},
          "execution_count": 30
        }
      ]
    },
    {
      "cell_type": "code",
      "source": [
        "model = keras.Sequential([\n",
        "    layers.Dense(16,activation = 'relu'),\n",
        "    layers.Dropout(0.5),\n",
        "    layers.Dense(16,activation = 'relu'),\n",
        "    layers.Dropout(0.5),\n",
        "    layers.Dense(1,activation = 'sigmoid')\n",
        "])\n",
        "model.compile(optimizer = 'rmsprop',\n",
        "              loss = 'binary_crossentropy',\n",
        "              metrics = ['accuracy'])\n",
        "history_dropout = model.fit(train_data,train_labels, epochs = 10, batch_size = 512, validation_split = 0.4)"
      ],
      "metadata": {
        "colab": {
          "base_uri": "https://localhost:8080/"
        },
        "id": "HNSmkH15avGC",
        "outputId": "4df1e8ac-81c8-4747-8e4e-ebb080271670"
      },
      "execution_count": null,
      "outputs": [
        {
          "output_type": "stream",
          "name": "stdout",
          "text": [
            "Epoch 1/10\n",
            "1/1 [==============================] - 1s 942ms/step - loss: -256.7500 - accuracy: 0.1322 - val_loss: -198.8750 - val_accuracy: 0.1173\n",
            "Epoch 2/10\n",
            "1/1 [==============================] - 0s 35ms/step - loss: -263.7500 - accuracy: 0.1281 - val_loss: -207.2500 - val_accuracy: 0.1173\n",
            "Epoch 3/10\n",
            "1/1 [==============================] - 0s 31ms/step - loss: -171.7500 - accuracy: 0.1116 - val_loss: -213.3750 - val_accuracy: 0.1173\n",
            "Epoch 4/10\n",
            "1/1 [==============================] - 0s 31ms/step - loss: -inf - accuracy: 0.1322 - val_loss: -219.8750 - val_accuracy: 0.1173\n",
            "Epoch 5/10\n",
            "1/1 [==============================] - 0s 33ms/step - loss: -247.7500 - accuracy: 0.1240 - val_loss: -224.7500 - val_accuracy: 0.1173\n",
            "Epoch 6/10\n",
            "1/1 [==============================] - 0s 34ms/step - loss: -250.1250 - accuracy: 0.1198 - val_loss: -229.1250 - val_accuracy: 0.1173\n",
            "Epoch 7/10\n",
            "1/1 [==============================] - 0s 32ms/step - loss: -236.5000 - accuracy: 0.1447 - val_loss: -233.5000 - val_accuracy: 0.1173\n",
            "Epoch 8/10\n",
            "1/1 [==============================] - 0s 34ms/step - loss: -244.3750 - accuracy: 0.1198 - val_loss: -238.0000 - val_accuracy: 0.1173\n",
            "Epoch 9/10\n",
            "1/1 [==============================] - 0s 31ms/step - loss: -250.6250 - accuracy: 0.1198 - val_loss: -242.7500 - val_accuracy: 0.1173\n",
            "Epoch 10/10\n",
            "1/1 [==============================] - 0s 31ms/step - loss: -254.1250 - accuracy: 0.1447 - val_loss: -247.2500 - val_accuracy: 0.1173\n"
          ]
        }
      ]
    },
    {
      "cell_type": "code",
      "source": [
        "from tensorflow.keras import regularizers\n",
        "model = keras.Sequential([\n",
        "    layers.Dense(16,\n",
        "                 kernel_regularizer = regularizers.l2(0.002),activation = 'relu'),\n",
        "    layers.Dense(16,\n",
        "                 kernel_regularizer = regularizers.l2(0.002),activation = 'relu'),\n",
        "    layers.Dense(1,activation = 'sigmoid')\n",
        "])\n",
        "model.compile(optimizer = 'rmsprop',\n",
        "              loss= 'binary_crossentropy',\n",
        "              metrics = ['accuracy'])\n",
        "model.fit(train_data,train_labels,\n",
        "          epochs = 20, batch_size = 512, validation_split=0.4)\n"
      ],
      "metadata": {
        "colab": {
          "base_uri": "https://localhost:8080/"
        },
        "id": "sNXHsIAuczfY",
        "outputId": "b9c827fe-a104-4adb-fd83-e2b0bf52c803"
      },
      "execution_count": null,
      "outputs": [
        {
          "output_type": "stream",
          "name": "stdout",
          "text": [
            "Epoch 1/20\n",
            "1/1 [==============================] - 2s 2s/step - loss: inf - accuracy: 0.1157 - val_loss: inf - val_accuracy: 0.0679\n",
            "Epoch 2/20\n",
            "1/1 [==============================] - 0s 42ms/step - loss: inf - accuracy: 0.1157 - val_loss: inf - val_accuracy: 0.0679\n",
            "Epoch 3/20\n",
            "1/1 [==============================] - 0s 29ms/step - loss: inf - accuracy: 0.1157 - val_loss: inf - val_accuracy: 0.0679\n",
            "Epoch 4/20\n",
            "1/1 [==============================] - 0s 29ms/step - loss: inf - accuracy: 0.1157 - val_loss: inf - val_accuracy: 0.0679\n",
            "Epoch 5/20\n",
            "1/1 [==============================] - 0s 30ms/step - loss: inf - accuracy: 0.1157 - val_loss: inf - val_accuracy: 0.0679\n",
            "Epoch 6/20\n",
            "1/1 [==============================] - 0s 30ms/step - loss: inf - accuracy: 0.1157 - val_loss: inf - val_accuracy: 0.0679\n",
            "Epoch 7/20\n",
            "1/1 [==============================] - 0s 29ms/step - loss: inf - accuracy: 0.1157 - val_loss: inf - val_accuracy: 0.0679\n",
            "Epoch 8/20\n",
            "1/1 [==============================] - 0s 29ms/step - loss: inf - accuracy: 0.1157 - val_loss: inf - val_accuracy: 0.0679\n",
            "Epoch 9/20\n",
            "1/1 [==============================] - 0s 31ms/step - loss: inf - accuracy: 0.1157 - val_loss: inf - val_accuracy: 0.0679\n",
            "Epoch 10/20\n",
            "1/1 [==============================] - 0s 30ms/step - loss: inf - accuracy: 0.1157 - val_loss: inf - val_accuracy: 0.0679\n",
            "Epoch 11/20\n",
            "1/1 [==============================] - 0s 32ms/step - loss: inf - accuracy: 0.1157 - val_loss: inf - val_accuracy: 0.0679\n",
            "Epoch 12/20\n",
            "1/1 [==============================] - 0s 31ms/step - loss: inf - accuracy: 0.1157 - val_loss: inf - val_accuracy: 0.0679\n",
            "Epoch 13/20\n",
            "1/1 [==============================] - 0s 36ms/step - loss: inf - accuracy: 0.1157 - val_loss: inf - val_accuracy: 0.0679\n",
            "Epoch 14/20\n",
            "1/1 [==============================] - 0s 30ms/step - loss: inf - accuracy: 0.1157 - val_loss: inf - val_accuracy: 0.0679\n",
            "Epoch 15/20\n",
            "1/1 [==============================] - 0s 30ms/step - loss: inf - accuracy: 0.1157 - val_loss: inf - val_accuracy: 0.0679\n",
            "Epoch 16/20\n",
            "1/1 [==============================] - 0s 34ms/step - loss: inf - accuracy: 0.1157 - val_loss: inf - val_accuracy: 0.0679\n",
            "Epoch 17/20\n",
            "1/1 [==============================] - 0s 30ms/step - loss: inf - accuracy: 0.1157 - val_loss: inf - val_accuracy: 0.0679\n",
            "Epoch 18/20\n",
            "1/1 [==============================] - 0s 30ms/step - loss: inf - accuracy: 0.1157 - val_loss: inf - val_accuracy: 0.0679\n",
            "Epoch 19/20\n",
            "1/1 [==============================] - 0s 30ms/step - loss: inf - accuracy: 0.1157 - val_loss: inf - val_accuracy: 0.0679\n",
            "Epoch 20/20\n",
            "1/1 [==============================] - 0s 33ms/step - loss: inf - accuracy: 0.1157 - val_loss: inf - val_accuracy: 0.0679\n"
          ]
        },
        {
          "output_type": "execute_result",
          "data": {
            "text/plain": [
              "<keras.src.callbacks.History at 0x796a4e435630>"
            ]
          },
          "metadata": {},
          "execution_count": 34
        }
      ]
    },
    {
      "cell_type": "code",
      "source": [],
      "metadata": {
        "id": "9IKIz_xVezKa"
      },
      "execution_count": null,
      "outputs": []
    }
  ]
}